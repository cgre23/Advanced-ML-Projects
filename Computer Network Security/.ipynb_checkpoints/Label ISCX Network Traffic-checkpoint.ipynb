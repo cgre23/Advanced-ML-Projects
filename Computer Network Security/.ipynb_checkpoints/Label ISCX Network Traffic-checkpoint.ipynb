{
 "cells": [
  {
   "cell_type": "markdown",
   "metadata": {},
   "source": [
    "## How to Label the ISCX Data\n",
    "\n",
    "\n",
    "### 1) Load the Data"
   ]
  },
  {
   "cell_type": "code",
   "execution_count": 1,
   "metadata": {},
   "outputs": [],
   "source": [
    "import pandas as pd\n",
    "import numpy as np\n"
   ]
  },
  {
   "cell_type": "code",
   "execution_count": 2,
   "metadata": {},
   "outputs": [
    {
     "name": "stdout",
     "output_type": "stream",
     "text": [
      "CPU times: user 940 ms, sys: 190 ms, total: 1.13 s\n",
      "Wall time: 1.16 s\n"
     ]
    }
   ],
   "source": [
    "%%time\n",
    "#load the data\n",
    "data = pd.read_csv('ISCX_ISCX_Botnet.csv')"
   ]
  },
  {
   "cell_type": "code",
   "execution_count": 3,
   "metadata": {},
   "outputs": [
    {
     "data": {
      "text/html": [
       "<div>\n",
       "<style scoped>\n",
       "    .dataframe tbody tr th:only-of-type {\n",
       "        vertical-align: middle;\n",
       "    }\n",
       "\n",
       "    .dataframe tbody tr th {\n",
       "        vertical-align: top;\n",
       "    }\n",
       "\n",
       "    .dataframe thead th {\n",
       "        text-align: right;\n",
       "    }\n",
       "</style>\n",
       "<table border=\"1\" class=\"dataframe\">\n",
       "  <thead>\n",
       "    <tr style=\"text-align: right;\">\n",
       "      <th></th>\n",
       "      <th>Source IP</th>\n",
       "      <th>Source Port</th>\n",
       "      <th>Destination IP</th>\n",
       "      <th>Destination Port</th>\n",
       "      <th>Protocol</th>\n",
       "      <th>Flow Duration</th>\n",
       "      <th>Flow Bytes/s</th>\n",
       "      <th>Flow Packets/s</th>\n",
       "      <th>Flow IAT Mean</th>\n",
       "      <th>Flow IAT Std</th>\n",
       "      <th>...</th>\n",
       "      <th>Bwd IAT Min</th>\n",
       "      <th>Active Mean</th>\n",
       "      <th>Active Std</th>\n",
       "      <th>Active Max</th>\n",
       "      <th>Active Min</th>\n",
       "      <th>Idle Mean</th>\n",
       "      <th>Idle Std</th>\n",
       "      <th>Idle Max</th>\n",
       "      <th>Idle Min</th>\n",
       "      <th>label</th>\n",
       "    </tr>\n",
       "  </thead>\n",
       "  <tbody>\n",
       "    <tr>\n",
       "      <th>0</th>\n",
       "      <td>8.6.0.1</td>\n",
       "      <td>0</td>\n",
       "      <td>8.0.6.4</td>\n",
       "      <td>0</td>\n",
       "      <td>0</td>\n",
       "      <td>61804233</td>\n",
       "      <td>0.000000</td>\n",
       "      <td>0.210342</td>\n",
       "      <td>5.150353e+06</td>\n",
       "      <td>4.942438e+06</td>\n",
       "      <td>...</td>\n",
       "      <td>0.0</td>\n",
       "      <td>910704.5</td>\n",
       "      <td>280640.074851</td>\n",
       "      <td>1109147.0</td>\n",
       "      <td>712262.0</td>\n",
       "      <td>9003695.5</td>\n",
       "      <td>4.108267e+06</td>\n",
       "      <td>15120887.0</td>\n",
       "      <td>5587976.0</td>\n",
       "      <td>ISCX</td>\n",
       "    </tr>\n",
       "    <tr>\n",
       "      <th>1</th>\n",
       "      <td>147.32.84.180</td>\n",
       "      <td>1040</td>\n",
       "      <td>147.32.84.171</td>\n",
       "      <td>139</td>\n",
       "      <td>6</td>\n",
       "      <td>14119</td>\n",
       "      <td>129470.925703</td>\n",
       "      <td>1416.530916</td>\n",
       "      <td>7.431053e+02</td>\n",
       "      <td>1.697691e+03</td>\n",
       "      <td>...</td>\n",
       "      <td>184.0</td>\n",
       "      <td>0.0</td>\n",
       "      <td>0.000000</td>\n",
       "      <td>0.0</td>\n",
       "      <td>0.0</td>\n",
       "      <td>0.0</td>\n",
       "      <td>0.000000e+00</td>\n",
       "      <td>0.0</td>\n",
       "      <td>0.0</td>\n",
       "      <td>ISCX</td>\n",
       "    </tr>\n",
       "    <tr>\n",
       "      <th>2</th>\n",
       "      <td>147.32.84.180</td>\n",
       "      <td>1041</td>\n",
       "      <td>147.32.84.19</td>\n",
       "      <td>139</td>\n",
       "      <td>6</td>\n",
       "      <td>40800</td>\n",
       "      <td>7205.882353</td>\n",
       "      <td>196.078431</td>\n",
       "      <td>5.828571e+03</td>\n",
       "      <td>1.113709e+04</td>\n",
       "      <td>...</td>\n",
       "      <td>1459.0</td>\n",
       "      <td>0.0</td>\n",
       "      <td>0.000000</td>\n",
       "      <td>0.0</td>\n",
       "      <td>0.0</td>\n",
       "      <td>0.0</td>\n",
       "      <td>0.000000e+00</td>\n",
       "      <td>0.0</td>\n",
       "      <td>0.0</td>\n",
       "      <td>ISCX</td>\n",
       "    </tr>\n",
       "    <tr>\n",
       "      <th>3</th>\n",
       "      <td>147.32.84.180</td>\n",
       "      <td>1042</td>\n",
       "      <td>147.32.84.19</td>\n",
       "      <td>139</td>\n",
       "      <td>6</td>\n",
       "      <td>44000</td>\n",
       "      <td>6681.818182</td>\n",
       "      <td>181.818182</td>\n",
       "      <td>6.285714e+03</td>\n",
       "      <td>1.102003e+04</td>\n",
       "      <td>...</td>\n",
       "      <td>1409.0</td>\n",
       "      <td>0.0</td>\n",
       "      <td>0.000000</td>\n",
       "      <td>0.0</td>\n",
       "      <td>0.0</td>\n",
       "      <td>0.0</td>\n",
       "      <td>0.000000e+00</td>\n",
       "      <td>0.0</td>\n",
       "      <td>0.0</td>\n",
       "      <td>ISCX</td>\n",
       "    </tr>\n",
       "    <tr>\n",
       "      <th>4</th>\n",
       "      <td>147.32.84.180</td>\n",
       "      <td>1043</td>\n",
       "      <td>147.32.84.171</td>\n",
       "      <td>139</td>\n",
       "      <td>6</td>\n",
       "      <td>56403</td>\n",
       "      <td>62656.241689</td>\n",
       "      <td>567.345709</td>\n",
       "      <td>1.819452e+03</td>\n",
       "      <td>3.344010e+03</td>\n",
       "      <td>...</td>\n",
       "      <td>291.0</td>\n",
       "      <td>0.0</td>\n",
       "      <td>0.000000</td>\n",
       "      <td>0.0</td>\n",
       "      <td>0.0</td>\n",
       "      <td>0.0</td>\n",
       "      <td>0.000000e+00</td>\n",
       "      <td>0.0</td>\n",
       "      <td>0.0</td>\n",
       "      <td>ISCX</td>\n",
       "    </tr>\n",
       "  </tbody>\n",
       "</table>\n",
       "<p>5 rows × 29 columns</p>\n",
       "</div>"
      ],
      "text/plain": [
       "       Source IP   Source Port  Destination IP   Destination Port   Protocol  \\\n",
       "0        8.6.0.1             0         8.0.6.4                  0          0   \n",
       "1  147.32.84.180          1040   147.32.84.171                139          6   \n",
       "2  147.32.84.180          1041    147.32.84.19                139          6   \n",
       "3  147.32.84.180          1042    147.32.84.19                139          6   \n",
       "4  147.32.84.180          1043   147.32.84.171                139          6   \n",
       "\n",
       "    Flow Duration   Flow Bytes/s   Flow Packets/s   Flow IAT Mean  \\\n",
       "0        61804233       0.000000         0.210342    5.150353e+06   \n",
       "1           14119  129470.925703      1416.530916    7.431053e+02   \n",
       "2           40800    7205.882353       196.078431    5.828571e+03   \n",
       "3           44000    6681.818182       181.818182    6.285714e+03   \n",
       "4           56403   62656.241689       567.345709    1.819452e+03   \n",
       "\n",
       "    Flow IAT Std  ...   Bwd IAT Min  Active Mean     Active Std   Active Max  \\\n",
       "0   4.942438e+06  ...           0.0     910704.5  280640.074851    1109147.0   \n",
       "1   1.697691e+03  ...         184.0          0.0       0.000000          0.0   \n",
       "2   1.113709e+04  ...        1459.0          0.0       0.000000          0.0   \n",
       "3   1.102003e+04  ...        1409.0          0.0       0.000000          0.0   \n",
       "4   3.344010e+03  ...         291.0          0.0       0.000000          0.0   \n",
       "\n",
       "    Active Min  Idle Mean      Idle Std    Idle Max   Idle Min  label  \n",
       "0     712262.0  9003695.5  4.108267e+06  15120887.0  5587976.0   ISCX  \n",
       "1          0.0        0.0  0.000000e+00         0.0        0.0   ISCX  \n",
       "2          0.0        0.0  0.000000e+00         0.0        0.0   ISCX  \n",
       "3          0.0        0.0  0.000000e+00         0.0        0.0   ISCX  \n",
       "4          0.0        0.0  0.000000e+00         0.0        0.0   ISCX  \n",
       "\n",
       "[5 rows x 29 columns]"
      ]
     },
     "execution_count": 3,
     "metadata": {},
     "output_type": "execute_result"
    }
   ],
   "source": [
    "data.head()"
   ]
  },
  {
   "cell_type": "markdown",
   "metadata": {},
   "source": [
    "### Shuffle the data"
   ]
  },
  {
   "cell_type": "code",
   "execution_count": null,
   "metadata": {},
   "outputs": [],
   "source": [
    "data = data.sample(frac=1).reset_index(drop=True)"
   ]
  },
  {
   "cell_type": "code",
   "execution_count": null,
   "metadata": {},
   "outputs": [],
   "source": [
    "data.columns"
   ]
  },
  {
   "cell_type": "code",
   "execution_count": null,
   "metadata": {},
   "outputs": [],
   "source": [
    "data.shape"
   ]
  },
  {
   "cell_type": "code",
   "execution_count": null,
   "metadata": {},
   "outputs": [],
   "source": [
    "#take a look at the data\n",
    "#data.head()"
   ]
  },
  {
   "cell_type": "code",
   "execution_count": null,
   "metadata": {},
   "outputs": [],
   "source": [
    "#take the first 10000 rows to save time\n",
    "## feel free to use the entire dataset in your own time\n",
    "data = data.iloc[:10000,:]\n",
    "data.shape"
   ]
  },
  {
   "cell_type": "markdown",
   "metadata": {},
   "source": [
    "## Max and Min values in features\n",
    "The resulting feature values after applying FlowMeter to transform the data from PCAP into csv could be as high as +infinity or as low as -infinity .. if that's the case .. it's a good idea to replace those values with reasonable values such as a very hight or very lowe number"
   ]
  },
  {
   "cell_type": "code",
   "execution_count": null,
   "metadata": {},
   "outputs": [],
   "source": [
    "## check the max and min values in the features\n",
    "print(data.max())\n",
    "#print(data.min())"
   ]
  },
  {
   "cell_type": "code",
   "execution_count": null,
   "metadata": {},
   "outputs": [],
   "source": [
    "## Here we replace the +inf or the -inf with a reasonable value\n",
    "## you can try with the highest possible value in Python: sys.float_info.max\n",
    "data.replace(np.inf, 1000000000000.0, inplace=True)\n",
    "#data.replace(-np.inf, -1000000000000.0, inplace=True)"
   ]
  },
  {
   "cell_type": "markdown",
   "metadata": {},
   "source": [
    "### 2) Load list of IP addresses and their corresponding Botnet Names\n",
    "\n",
    "Data taken from: https://www.unb.ca/cic/datasets/botnet.html\n",
    "\n",
    "#### Also write functions to apply labelling according to Source and Destination IP addresses"
   ]
  },
  {
   "cell_type": "code",
   "execution_count": null,
   "metadata": {},
   "outputs": [],
   "source": [
    "# load ip addresses and the labels\n",
    "ip1 = pd.read_csv('bots1.csv')\n",
    "ip2 = pd.read_csv('bots2.csv')"
   ]
  },
  {
   "cell_type": "code",
   "execution_count": null,
   "metadata": {},
   "outputs": [],
   "source": [
    "#this function goes through the data one row at a time, checks the source IP and checkes if it exists in ip1\n",
    "#if so, then this row is given the Botnet label\n",
    "def find_class1(row):\n",
    "    sourceIP = str(row['Source IP'])\n",
    "    #destIP = str(row[' Destination IP'])\n",
    "    #print(sourceIP+' -- '+destIP)\n",
    "    for index, ip_row in ip1.iterrows():\n",
    "        #print('\\tcompare to: ' + ip_row['SrcIP']+' -- '+ip_row['DestIP'])\n",
    "        if sourceIP == ip_row['IP']:\n",
    "            s = ip_row['Bot']\n",
    "            return s\n",
    "    \n",
    "    return 'Other'"
   ]
  },
  {
   "cell_type": "code",
   "execution_count": null,
   "metadata": {},
   "outputs": [],
   "source": [
    "# this function goes through the data one row at a time, checks the source and dest IPs and checkes if they both\n",
    "# exist in ip2, if so, then this row is given the Botnet label\n",
    "def find_class2(row):\n",
    "    sourceIP = str(row['Source IP'])\n",
    "    destIP = str(row[' Destination IP'])\n",
    "    #print(sourceIP+' -- '+destIP)\n",
    "    for index, ip_row in ip2.iterrows():\n",
    "        #print('\\tcompare to: ' + ip_row['SrcIP']+' -- '+ip_row['DestIP'])\n",
    "        if sourceIP == ip_row['SrcIP'] and destIP == ip_row['DestIP']:\n",
    "            s = ip_row['Bot']\n",
    "            return s\n",
    "    \n",
    "    return 'Other'        "
   ]
  },
  {
   "cell_type": "code",
   "execution_count": null,
   "metadata": {},
   "outputs": [],
   "source": [
    "labels1 = data.apply(find_class1, axis=1)"
   ]
  },
  {
   "cell_type": "code",
   "execution_count": null,
   "metadata": {},
   "outputs": [],
   "source": [
    "len(labels1[labels1 == 'Other']) "
   ]
  },
  {
   "cell_type": "code",
   "execution_count": null,
   "metadata": {},
   "outputs": [],
   "source": [
    "labels2 = data.apply(find_class2, axis=1)"
   ]
  },
  {
   "cell_type": "code",
   "execution_count": null,
   "metadata": {},
   "outputs": [],
   "source": [
    "len(labels2[labels2 == 'Other'])"
   ]
  },
  {
   "cell_type": "code",
   "execution_count": null,
   "metadata": {},
   "outputs": [],
   "source": [
    "#len(ls1)"
   ]
  },
  {
   "cell_type": "code",
   "execution_count": null,
   "metadata": {},
   "outputs": [],
   "source": [
    "ls1 = list(labels1.values)"
   ]
  },
  {
   "cell_type": "code",
   "execution_count": null,
   "metadata": {},
   "outputs": [],
   "source": [
    "ls2 = list(labels2.values)"
   ]
  },
  {
   "cell_type": "code",
   "execution_count": null,
   "metadata": {},
   "outputs": [],
   "source": [
    "len(ls1)"
   ]
  },
  {
   "cell_type": "code",
   "execution_count": null,
   "metadata": {},
   "outputs": [],
   "source": [
    "label = list()"
   ]
  },
  {
   "cell_type": "code",
   "execution_count": null,
   "metadata": {},
   "outputs": [],
   "source": [
    "# now if a label is \"Other\" in both lists, then it's Normal\n",
    "# if it's \"Other\" in one list only, then we assign the label from the other list\n",
    "for a, b in zip(ls1, ls2):\n",
    "    if a == 'Other' and b == 'Other':\n",
    "        label.append('Normal')\n",
    "    else:\n",
    "        if a == 'Other':\n",
    "            label.append(b)\n",
    "        else:\n",
    "            label.append(a)"
   ]
  },
  {
   "cell_type": "code",
   "execution_count": null,
   "metadata": {},
   "outputs": [],
   "source": [
    "label"
   ]
  },
  {
   "cell_type": "markdown",
   "metadata": {},
   "source": [
    "#### Here we add 'BotNet_Label' column to the data after we filled it as above"
   ]
  },
  {
   "cell_type": "code",
   "execution_count": null,
   "metadata": {},
   "outputs": [],
   "source": [
    "data['BotNet_Label'] = label"
   ]
  },
  {
   "cell_type": "code",
   "execution_count": null,
   "metadata": {},
   "outputs": [],
   "source": [
    "#remove spaces from column names\n",
    "data = data.rename(columns=lambda x: x.strip())"
   ]
  },
  {
   "cell_type": "code",
   "execution_count": null,
   "metadata": {},
   "outputs": [],
   "source": [
    "data.columns"
   ]
  },
  {
   "cell_type": "code",
   "execution_count": null,
   "metadata": {},
   "outputs": [],
   "source": [
    "# Explore BotNet_Label values\n",
    "data['BotNet_Label'].value_counts()"
   ]
  },
  {
   "cell_type": "code",
   "execution_count": null,
   "metadata": {},
   "outputs": [],
   "source": [
    "#remove unimportant columns\n",
    "data.drop(['Source IP','Destination IP','label'],inplace=True,axis=1)"
   ]
  },
  {
   "cell_type": "markdown",
   "metadata": {},
   "source": [
    "### This is how to apply one-hot encoding using Pandas"
   ]
  },
  {
   "cell_type": "code",
   "execution_count": null,
   "metadata": {},
   "outputs": [],
   "source": [
    "df_src_port = pd.get_dummies(data['Source Port'],prefix='SrcPort')\n",
    "df_dest_port = pd.get_dummies(data['Destination Port'],prefix='DestPort')\n",
    "df_protocol = pd.get_dummies(data['Protocol'],prefix='Protocol')"
   ]
  },
  {
   "cell_type": "code",
   "execution_count": null,
   "metadata": {},
   "outputs": [],
   "source": [
    "#df_src_port.head()"
   ]
  },
  {
   "cell_type": "code",
   "execution_count": null,
   "metadata": {},
   "outputs": [],
   "source": [
    "data = pd.concat([data, df_src_port,df_dest_port,df_protocol], axis=1)\n",
    "data.shape"
   ]
  },
  {
   "cell_type": "code",
   "execution_count": null,
   "metadata": {},
   "outputs": [],
   "source": [
    "data.drop(['Source Port','Destination Port','Protocol'],inplace=True,axis=1)\n",
    "data.shape"
   ]
  },
  {
   "cell_type": "markdown",
   "metadata": {},
   "source": [
    "### Save the Data .. it is ready for further analysis and machine learning"
   ]
  },
  {
   "cell_type": "code",
   "execution_count": null,
   "metadata": {},
   "outputs": [],
   "source": [
    "%%time\n",
    "data.to_csv('ISCX_Botnet_Labelled.csv',index=False)"
   ]
  },
  {
   "cell_type": "code",
   "execution_count": null,
   "metadata": {},
   "outputs": [],
   "source": []
  }
 ],
 "metadata": {
  "anaconda-cloud": {},
  "kernelspec": {
   "display_name": "Python 3",
   "language": "python",
   "name": "python3"
  },
  "language_info": {
   "codemirror_mode": {
    "name": "ipython",
    "version": 3
   },
   "file_extension": ".py",
   "mimetype": "text/x-python",
   "name": "python",
   "nbconvert_exporter": "python",
   "pygments_lexer": "ipython3",
   "version": "3.6.11"
  }
 },
 "nbformat": 4,
 "nbformat_minor": 1
}
