{
 "cells": [
  {
   "cell_type": "markdown",
   "metadata": {},
   "source": [
    "# Time-Series Prediction"
   ]
  },
  {
   "cell_type": "markdown",
   "metadata": {},
   "source": [
    "## Imports"
   ]
  },
  {
   "cell_type": "code",
   "execution_count": 1,
   "metadata": {},
   "outputs": [],
   "source": [
    "import numpy as np\n",
    "import pandas as pd\n",
    "pd.set_option('display.max_columns', 500)\n",
    "\n",
    "# Import the plotting library\n",
    "import matplotlib.pyplot as plt\n",
    "%matplotlib inline\n",
    "\n",
    "from keras.models import Sequential\n",
    "from keras.layers import Dense\n",
    "from keras.layers import Flatten\n",
    "from keras.layers.convolutional import Conv1D\n",
    "from keras.layers.convolutional import MaxPooling1D\n",
    "\n",
    "from keras.layers import GRU, Embedding, LSTM\n",
    "\n",
    "from keras.models import load_model\n",
    "from keras.callbacks import EarlyStopping\n",
    "from keras.callbacks import ModelCheckpoint\n",
    "\n",
    "from sklearn.preprocessing import MinMaxScaler\n",
    "\n",
    "import warnings\n",
    "warnings.filterwarnings('ignore')"
   ]
  },
  {
   "cell_type": "code",
   "execution_count": 2,
   "metadata": {},
   "outputs": [],
   "source": [
    "#!pip install yfinance\n",
    "import yfinance as yf"
   ]
  },
  {
   "cell_type": "code",
   "execution_count": 3,
   "metadata": {},
   "outputs": [],
   "source": [
    "#!pip install pandas_datareader\n",
    "from pandas_datareader import data as wb"
   ]
  },
  {
   "cell_type": "markdown",
   "metadata": {},
   "source": [
    "### Download Stock Market Data using Yahoo Finance"
   ]
  },
  {
   "cell_type": "code",
   "execution_count": 4,
   "metadata": {},
   "outputs": [
    {
     "name": "stdout",
     "output_type": "stream",
     "text": [
      "[*********************100%***********************]  1 of 1 completed\n"
     ]
    },
    {
     "data": {
      "image/png": "[encoded data removed]",
      "text/plain": [
       "<Figure size 432x288 with 1 Axes>"
      ]
     },
     "metadata": {
      "needs_background": "light"
     },
     "output_type": "display_data"
    }
   ],
   "source": [
    "# Get the data of the stock AAPL\n",
    "aapl = yf.download('AAPL','2019-01-01','2020-12-28')\n",
    "# Plot the close price of the AAPL\n",
    "aapl['Adj Close'].plot()\n",
    "plt.title(\"Adjusted Close Price\", fontsize=16)\n",
    "# Define the labels for x-axis and y-axis\n",
    "plt.ylabel('Price', fontsize=14)\n",
    "plt.xlabel('Year', fontsize=14)\n",
    "plt.show()"
   ]
  },
  {
   "cell_type": "code",
   "execution_count": 5,
   "metadata": {},
   "outputs": [
    {
     "data": {
      "text/html": [
       "<div>\n",
       "<style scoped>\n",
       "    .dataframe tbody tr th:only-of-type {\n",
       "        vertical-align: middle;\n",
       "    }\n",
       "\n",
       "    .dataframe tbody tr th {\n",
       "        vertical-align: top;\n",
       "    }\n",
       "\n",
       "    .dataframe thead th {\n",
       "        text-align: right;\n",
       "    }\n",
       "</style>\n",
       "<table border=\"1\" class=\"dataframe\">\n",
       "  <thead>\n",
       "    <tr style=\"text-align: right;\">\n",
       "      <th></th>\n",
       "      <th>Open</th>\n",
       "      <th>High</th>\n",
       "      <th>Low</th>\n",
       "      <th>Close</th>\n",
       "      <th>Adj Close</th>\n",
       "      <th>Volume</th>\n",
       "    </tr>\n",
       "    <tr>\n",
       "      <th>Date</th>\n",
       "      <th></th>\n",
       "      <th></th>\n",
       "      <th></th>\n",
       "      <th></th>\n",
       "      <th></th>\n",
       "      <th></th>\n",
       "    </tr>\n",
       "  </thead>\n",
       "  <tbody>\n",
       "    <tr>\n",
       "      <th>2018-12-31</th>\n",
       "      <td>39.632500</td>\n",
       "      <td>39.840000</td>\n",
       "      <td>39.119999</td>\n",
       "      <td>39.435001</td>\n",
       "      <td>38.518612</td>\n",
       "      <td>140014000</td>\n",
       "    </tr>\n",
       "    <tr>\n",
       "      <th>2019-01-02</th>\n",
       "      <td>38.722500</td>\n",
       "      <td>39.712502</td>\n",
       "      <td>38.557499</td>\n",
       "      <td>39.480000</td>\n",
       "      <td>38.562561</td>\n",
       "      <td>148158800</td>\n",
       "    </tr>\n",
       "    <tr>\n",
       "      <th>2019-01-03</th>\n",
       "      <td>35.994999</td>\n",
       "      <td>36.430000</td>\n",
       "      <td>35.500000</td>\n",
       "      <td>35.547501</td>\n",
       "      <td>34.721451</td>\n",
       "      <td>365248800</td>\n",
       "    </tr>\n",
       "    <tr>\n",
       "      <th>2019-01-04</th>\n",
       "      <td>36.132500</td>\n",
       "      <td>37.137501</td>\n",
       "      <td>35.950001</td>\n",
       "      <td>37.064999</td>\n",
       "      <td>36.203678</td>\n",
       "      <td>234428400</td>\n",
       "    </tr>\n",
       "    <tr>\n",
       "      <th>2019-01-07</th>\n",
       "      <td>37.174999</td>\n",
       "      <td>37.207500</td>\n",
       "      <td>36.474998</td>\n",
       "      <td>36.982498</td>\n",
       "      <td>36.123104</td>\n",
       "      <td>219111200</td>\n",
       "    </tr>\n",
       "  </tbody>\n",
       "</table>\n",
       "</div>"
      ],
      "text/plain": [
       "                 Open       High        Low      Close  Adj Close     Volume\n",
       "Date                                                                        \n",
       "2018-12-31  39.632500  39.840000  39.119999  39.435001  38.518612  140014000\n",
       "2019-01-02  38.722500  39.712502  38.557499  39.480000  38.562561  148158800\n",
       "2019-01-03  35.994999  36.430000  35.500000  35.547501  34.721451  365248800\n",
       "2019-01-04  36.132500  37.137501  35.950001  37.064999  36.203678  234428400\n",
       "2019-01-07  37.174999  37.207500  36.474998  36.982498  36.123104  219111200"
      ]
     },
     "execution_count": 5,
     "metadata": {},
     "output_type": "execute_result"
    }
   ],
   "source": [
    "aapl.head()"
   ]
  },
  {
   "cell_type": "code",
   "execution_count": 6,
   "metadata": {},
   "outputs": [
    {
     "data": {
      "text/html": [
       "<div>\n",
       "<style scoped>\n",
       "    .dataframe tbody tr th:only-of-type {\n",
       "        vertical-align: middle;\n",
       "    }\n",
       "\n",
       "    .dataframe tbody tr th {\n",
       "        vertical-align: top;\n",
       "    }\n",
       "\n",
       "    .dataframe thead th {\n",
       "        text-align: right;\n",
       "    }\n",
       "</style>\n",
       "<table border=\"1\" class=\"dataframe\">\n",
       "  <thead>\n",
       "    <tr style=\"text-align: right;\">\n",
       "      <th></th>\n",
       "      <th>Open</th>\n",
       "      <th>High</th>\n",
       "      <th>Low</th>\n",
       "      <th>Close</th>\n",
       "      <th>Adj Close</th>\n",
       "      <th>Volume</th>\n",
       "    </tr>\n",
       "  </thead>\n",
       "  <tbody>\n",
       "    <tr>\n",
       "      <th>count</th>\n",
       "      <td>502.000000</td>\n",
       "      <td>502.000000</td>\n",
       "      <td>502.000000</td>\n",
       "      <td>502.000000</td>\n",
       "      <td>502.000000</td>\n",
       "      <td>5.020000e+02</td>\n",
       "    </tr>\n",
       "    <tr>\n",
       "      <th>mean</th>\n",
       "      <td>73.100408</td>\n",
       "      <td>74.039452</td>\n",
       "      <td>72.233466</td>\n",
       "      <td>73.196016</td>\n",
       "      <td>72.663354</td>\n",
       "      <td>1.322561e+08</td>\n",
       "    </tr>\n",
       "    <tr>\n",
       "      <th>std</th>\n",
       "      <td>26.920227</td>\n",
       "      <td>27.321302</td>\n",
       "      <td>26.376295</td>\n",
       "      <td>26.856523</td>\n",
       "      <td>27.103660</td>\n",
       "      <td>6.365159e+07</td>\n",
       "    </tr>\n",
       "    <tr>\n",
       "      <th>min</th>\n",
       "      <td>35.994999</td>\n",
       "      <td>36.430000</td>\n",
       "      <td>35.500000</td>\n",
       "      <td>35.547501</td>\n",
       "      <td>34.721451</td>\n",
       "      <td>2.420510e+07</td>\n",
       "    </tr>\n",
       "    <tr>\n",
       "      <th>25%</th>\n",
       "      <td>50.768749</td>\n",
       "      <td>51.113126</td>\n",
       "      <td>50.352500</td>\n",
       "      <td>50.717500</td>\n",
       "      <td>49.929929</td>\n",
       "      <td>8.936900e+07</td>\n",
       "    </tr>\n",
       "    <tr>\n",
       "      <th>50%</th>\n",
       "      <td>66.389999</td>\n",
       "      <td>67.000000</td>\n",
       "      <td>65.716251</td>\n",
       "      <td>66.557503</td>\n",
       "      <td>66.063404</td>\n",
       "      <td>1.155105e+08</td>\n",
       "    </tr>\n",
       "    <tr>\n",
       "      <th>75%</th>\n",
       "      <td>90.996876</td>\n",
       "      <td>91.753748</td>\n",
       "      <td>89.570623</td>\n",
       "      <td>91.027496</td>\n",
       "      <td>90.707176</td>\n",
       "      <td>1.554280e+08</td>\n",
       "    </tr>\n",
       "    <tr>\n",
       "      <th>max</th>\n",
       "      <td>137.589996</td>\n",
       "      <td>137.979996</td>\n",
       "      <td>131.100006</td>\n",
       "      <td>134.179993</td>\n",
       "      <td>133.948898</td>\n",
       "      <td>4.268848e+08</td>\n",
       "    </tr>\n",
       "  </tbody>\n",
       "</table>\n",
       "</div>"
      ],
      "text/plain": [
       "             Open        High         Low       Close   Adj Close  \\\n",
       "count  502.000000  502.000000  502.000000  502.000000  502.000000   \n",
       "mean    73.100408   74.039452   72.233466   73.196016   72.663354   \n",
       "std     26.920227   27.321302   26.376295   26.856523   27.103660   \n",
       "min     35.994999   36.430000   35.500000   35.547501   34.721451   \n",
       "25%     50.768749   51.113126   50.352500   50.717500   49.929929   \n",
       "50%     66.389999   67.000000   65.716251   66.557503   66.063404   \n",
       "75%     90.996876   91.753748   89.570623   91.027496   90.707176   \n",
       "max    137.589996  137.979996  131.100006  134.179993  133.948898   \n",
       "\n",
       "             Volume  \n",
       "count  5.020000e+02  \n",
       "mean   1.322561e+08  \n",
       "std    6.365159e+07  \n",
       "min    2.420510e+07  \n",
       "25%    8.936900e+07  \n",
       "50%    1.155105e+08  \n",
       "75%    1.554280e+08  \n",
       "max    4.268848e+08  "
      ]
     },
     "execution_count": 6,
     "metadata": {},
     "output_type": "execute_result"
    }
   ],
   "source": [
    "aapl.describe()"
   ]
  },
  {
   "cell_type": "code",
   "execution_count": 7,
   "metadata": {},
   "outputs": [
    {
     "name": "stdout",
     "output_type": "stream",
     "text": [
      "<class 'pandas.core.frame.DataFrame'>\n",
      "DatetimeIndex: 502 entries, 2018-12-31 to 2020-12-24\n",
      "Data columns (total 6 columns):\n",
      " #   Column     Non-Null Count  Dtype  \n",
      "---  ------     --------------  -----  \n",
      " 0   Open       502 non-null    float64\n",
      " 1   High       502 non-null    float64\n",
      " 2   Low        502 non-null    float64\n",
      " 3   Close      502 non-null    float64\n",
      " 4   Adj Close  502 non-null    float64\n",
      " 5   Volume     502 non-null    int64  \n",
      "dtypes: float64(5), int64(1)\n",
      "memory usage: 27.5 KB\n"
     ]
    }
   ],
   "source": [
    "aapl.info()"
   ]
  },
  {
   "cell_type": "code",
   "execution_count": 8,
   "metadata": {},
   "outputs": [],
   "source": [
    "#aapl_daily_returns = aapl['Adj Close'].pct_change()\n",
    "#aapl_monthly_returns = aapl['Adj Close'].resample('M').ffill().pct_change()"
   ]
  },
  {
   "cell_type": "markdown",
   "metadata": {},
   "source": [
    "A nice tutorial on financial data analysis: https://www.codingfinance.com/post/2018-04-03-calc-returns-py/\n",
    "\n",
    "### Calculating the daily and monthly returns for individual stock:\n",
    "\n",
    "Once we downloaded the stock prices from yahoo finance, the next thing to do is to calculate the returns. We will again use pandas package to do the calculations. We have already downloaded the price data for AAPL above, if you haven’t done that then see the above section. We will calculate the monthly and daily price returns.\n",
    "```python\n",
    "aapl_daily_returns = aapl['Adj Close'].pct_change()\n",
    "aapl_monthly_returns = aapl['Adj Close'].resample('M').ffill().pct_change()\n",
    "```\n",
    "\n",
    "### Calculating the cumulative returns for individual stock:\n",
    "\n",
    "Plotting the daily and monthly returns are useful for understanding the daily and monthly volatility of the investment. To calculate the growth of our investment or, in other words, calculating the total returns from our investment, we need to calculate the cumulative returns from that investment. To calculate the cumulative returns we will use the cumprod() function.\n",
    "```python\n",
    "aapl_cum_returns = (aapl_daily_returns + 1).cumprod()\n",
    "```\n",
    "\n",
    "#### Plot the data:\n",
    "```python\n",
    "fig = plt.figure()\n",
    "ax1 = fig.add_axes([0.1,0.1,0.8,0.8])\n",
    "ax1.plot(aapl_cum_returns)\n",
    "ax1.set_xlabel(\"Date\")\n",
    "ax1.set_ylabel(\"Percent\")\n",
    "ax1.set_title(\"AAPL daily returns data\")\n",
    "plt.show()\n",
    "```"
   ]
  },
  {
   "cell_type": "markdown",
   "metadata": {},
   "source": [
    "### Download Several Stocks"
   ]
  },
  {
   "cell_type": "code",
   "execution_count": 10,
   "metadata": {},
   "outputs": [
    {
     "name": "stdout",
     "output_type": "stream",
     "text": [
      "[*********************100%***********************]  1 of 1 completed\n",
      "[*********************100%***********************]  1 of 1 completed\n",
      "[*********************100%***********************]  1 of 1 completed\n",
      "[*********************100%***********************]  1 of 1 completed\n",
      "[*********************100%***********************]  1 of 1 completed\n",
      "[*********************100%***********************]  1 of 1 completed\n",
      "[*********************100%***********************]  1 of 1 completed\n",
      "[*********************100%***********************]  1 of 1 completed\n"
     ]
    },
    {
     "data": {
      "image/png": "[encoded data removed]",
      "text/plain": [
       "<Figure size 720x504 with 1 Axes>"
      ]
     },
     "metadata": {
      "needs_background": "light"
     },
     "output_type": "display_data"
    }
   ],
   "source": [
    "# Define the ticker list\n",
    "tickers_list = ['AAPL', 'WMT', 'IBM', 'MU', 'BA', 'AXP','GOOG','MSFT']\n",
    "\n",
    "stock_data = pd.DataFrame(columns=tickers_list)\n",
    "# Fetch the data\n",
    "\n",
    "for ticker in tickers_list:\n",
    "    stock_data[ticker] = yf.download(ticker, '2019-1-1', '2020-12-31')['Adj Close']\n",
    "# Print first 5 rows of the data\n",
    "#stock_data.head()\n",
    "\n",
    "\n",
    "# Plot all the close prices\n",
    "# the cumulative returns for individual stocks\n",
    "((stock_data.pct_change()+1).cumprod()).plot(figsize=(10, 7))\n",
    "# Show the legend\n",
    "plt.legend()\n",
    "# Define the label for the title of the figure\n",
    "plt.title(\"Adjusted Close Price\", fontsize=16)\n",
    "# Define the labels for x-axis and y-axis\n",
    "plt.ylabel('Price', fontsize=14)\n",
    "plt.xlabel('Year', fontsize=14)\n",
    "# Plot the grid lines\n",
    "plt.grid(which=\"major\", color='k', linestyle='-.', linewidth=0.5)\n",
    "plt.show()\n",
    "\n"
   ]
  },
  {
   "cell_type": "code",
   "execution_count": 11,
   "metadata": {},
   "outputs": [
    {
     "data": {
      "text/html": [
       "<div>\n",
       "<style scoped>\n",
       "    .dataframe tbody tr th:only-of-type {\n",
       "        vertical-align: middle;\n",
       "    }\n",
       "\n",
       "    .dataframe tbody tr th {\n",
       "        vertical-align: top;\n",
       "    }\n",
       "\n",
       "    .dataframe thead th {\n",
       "        text-align: right;\n",
       "    }\n",
       "</style>\n",
       "<table border=\"1\" class=\"dataframe\">\n",
       "  <thead>\n",
       "    <tr style=\"text-align: right;\">\n",
       "      <th></th>\n",
       "      <th>AAPL</th>\n",
       "      <th>WMT</th>\n",
       "      <th>IBM</th>\n",
       "      <th>MU</th>\n",
       "      <th>BA</th>\n",
       "      <th>AXP</th>\n",
       "      <th>GOOG</th>\n",
       "      <th>MSFT</th>\n",
       "    </tr>\n",
       "    <tr>\n",
       "      <th>Date</th>\n",
       "      <th></th>\n",
       "      <th></th>\n",
       "      <th></th>\n",
       "      <th></th>\n",
       "      <th></th>\n",
       "      <th></th>\n",
       "      <th></th>\n",
       "      <th></th>\n",
       "    </tr>\n",
       "  </thead>\n",
       "  <tbody>\n",
       "    <tr>\n",
       "      <th>2018-12-31</th>\n",
       "      <td>38.518612</td>\n",
       "      <td>89.801826</td>\n",
       "      <td>103.062599</td>\n",
       "      <td>31.730000</td>\n",
       "      <td>313.372223</td>\n",
       "      <td>92.294746</td>\n",
       "      <td>1035.609985</td>\n",
       "      <td>99.040863</td>\n",
       "    </tr>\n",
       "    <tr>\n",
       "      <th>2019-01-02</th>\n",
       "      <td>38.562561</td>\n",
       "      <td>89.984993</td>\n",
       "      <td>104.458885</td>\n",
       "      <td>32.750000</td>\n",
       "      <td>314.645142</td>\n",
       "      <td>92.643311</td>\n",
       "      <td>1045.849976</td>\n",
       "      <td>98.602066</td>\n",
       "    </tr>\n",
       "    <tr>\n",
       "      <th>2019-01-03</th>\n",
       "      <td>34.721451</td>\n",
       "      <td>89.522263</td>\n",
       "      <td>102.373520</td>\n",
       "      <td>31.000000</td>\n",
       "      <td>302.100555</td>\n",
       "      <td>90.834969</td>\n",
       "      <td>1016.059998</td>\n",
       "      <td>94.974693</td>\n",
       "    </tr>\n",
       "    <tr>\n",
       "      <th>2019-01-04</th>\n",
       "      <td>36.203678</td>\n",
       "      <td>90.081413</td>\n",
       "      <td>106.371994</td>\n",
       "      <td>32.700001</td>\n",
       "      <td>317.822601</td>\n",
       "      <td>94.928040</td>\n",
       "      <td>1070.709961</td>\n",
       "      <td>99.391899</td>\n",
       "    </tr>\n",
       "    <tr>\n",
       "      <th>2019-01-07</th>\n",
       "      <td>36.123104</td>\n",
       "      <td>91.141884</td>\n",
       "      <td>107.124527</td>\n",
       "      <td>34.000000</td>\n",
       "      <td>318.823395</td>\n",
       "      <td>95.443306</td>\n",
       "      <td>1068.390015</td>\n",
       "      <td>99.518669</td>\n",
       "    </tr>\n",
       "  </tbody>\n",
       "</table>\n",
       "</div>"
      ],
      "text/plain": [
       "                 AAPL        WMT         IBM         MU          BA  \\\n",
       "Date                                                                  \n",
       "2018-12-31  38.518612  89.801826  103.062599  31.730000  313.372223   \n",
       "2019-01-02  38.562561  89.984993  104.458885  32.750000  314.645142   \n",
       "2019-01-03  34.721451  89.522263  102.373520  31.000000  302.100555   \n",
       "2019-01-04  36.203678  90.081413  106.371994  32.700001  317.822601   \n",
       "2019-01-07  36.123104  91.141884  107.124527  34.000000  318.823395   \n",
       "\n",
       "                  AXP         GOOG       MSFT  \n",
       "Date                                           \n",
       "2018-12-31  92.294746  1035.609985  99.040863  \n",
       "2019-01-02  92.643311  1045.849976  98.602066  \n",
       "2019-01-03  90.834969  1016.059998  94.974693  \n",
       "2019-01-04  94.928040  1070.709961  99.391899  \n",
       "2019-01-07  95.443306  1068.390015  99.518669  "
      ]
     },
     "execution_count": 11,
     "metadata": {},
     "output_type": "execute_result"
    }
   ],
   "source": [
    "stock_data.head()"
   ]
  },
  {
   "cell_type": "markdown",
   "metadata": {},
   "source": [
    "### Download Stock Market Data using Pandas DataReader"
   ]
  },
  {
   "cell_type": "code",
   "execution_count": 12,
   "metadata": {},
   "outputs": [],
   "source": [
    "#import datetime as dt\n",
    "\n",
    "start = '2019-6-20'\n",
    "end = '2019-7-20'\n",
    "\n",
    "tickers = ['CSCO','AXP','HD','PG']\n",
    "\n",
    "thelen = len(tickers)\n",
    "\n",
    "price_data = []\n",
    "for ticker in tickers:\n",
    "    prices = wb.DataReader(ticker, start = start, end = end, data_source='yahoo')[['Adj Close']]\n",
    "    price_data.append(prices.assign(ticker=ticker)[['ticker', 'Adj Close']])\n",
    "\n",
    "stock_df = pd.concat(price_data)\n",
    "#stock_df.dtypes\n",
    "#stock_df.head()\n",
    "#stock_df.shape\n"
   ]
  },
  {
   "cell_type": "code",
   "execution_count": 13,
   "metadata": {},
   "outputs": [
    {
     "data": {
      "text/html": [
       "<div>\n",
       "<style scoped>\n",
       "    .dataframe tbody tr th:only-of-type {\n",
       "        vertical-align: middle;\n",
       "    }\n",
       "\n",
       "    .dataframe tbody tr th {\n",
       "        vertical-align: top;\n",
       "    }\n",
       "\n",
       "    .dataframe thead th {\n",
       "        text-align: right;\n",
       "    }\n",
       "</style>\n",
       "<table border=\"1\" class=\"dataframe\">\n",
       "  <thead>\n",
       "    <tr style=\"text-align: right;\">\n",
       "      <th></th>\n",
       "      <th>ticker</th>\n",
       "      <th>Adj Close</th>\n",
       "    </tr>\n",
       "    <tr>\n",
       "      <th>Date</th>\n",
       "      <th></th>\n",
       "      <th></th>\n",
       "    </tr>\n",
       "  </thead>\n",
       "  <tbody>\n",
       "    <tr>\n",
       "      <th>2019-06-20</th>\n",
       "      <td>CSCO</td>\n",
       "      <td>54.739899</td>\n",
       "    </tr>\n",
       "    <tr>\n",
       "      <th>2019-06-21</th>\n",
       "      <td>CSCO</td>\n",
       "      <td>54.377571</td>\n",
       "    </tr>\n",
       "    <tr>\n",
       "      <th>2019-06-24</th>\n",
       "      <td>CSCO</td>\n",
       "      <td>54.520596</td>\n",
       "    </tr>\n",
       "    <tr>\n",
       "      <th>2019-06-25</th>\n",
       "      <td>CSCO</td>\n",
       "      <td>53.471756</td>\n",
       "    </tr>\n",
       "    <tr>\n",
       "      <th>2019-06-26</th>\n",
       "      <td>CSCO</td>\n",
       "      <td>53.967571</td>\n",
       "    </tr>\n",
       "    <tr>\n",
       "      <th>...</th>\n",
       "      <td>...</td>\n",
       "      <td>...</td>\n",
       "    </tr>\n",
       "    <tr>\n",
       "      <th>2019-07-15</th>\n",
       "      <td>PG</td>\n",
       "      <td>111.260757</td>\n",
       "    </tr>\n",
       "    <tr>\n",
       "      <th>2019-07-16</th>\n",
       "      <td>PG</td>\n",
       "      <td>111.655769</td>\n",
       "    </tr>\n",
       "    <tr>\n",
       "      <th>2019-07-17</th>\n",
       "      <td>PG</td>\n",
       "      <td>111.703934</td>\n",
       "    </tr>\n",
       "    <tr>\n",
       "      <th>2019-07-18</th>\n",
       "      <td>PG</td>\n",
       "      <td>111.942490</td>\n",
       "    </tr>\n",
       "    <tr>\n",
       "      <th>2019-07-19</th>\n",
       "      <td>PG</td>\n",
       "      <td>111.525513</td>\n",
       "    </tr>\n",
       "  </tbody>\n",
       "</table>\n",
       "<p>84 rows × 2 columns</p>\n",
       "</div>"
      ],
      "text/plain": [
       "           ticker   Adj Close\n",
       "Date                         \n",
       "2019-06-20   CSCO   54.739899\n",
       "2019-06-21   CSCO   54.377571\n",
       "2019-06-24   CSCO   54.520596\n",
       "2019-06-25   CSCO   53.471756\n",
       "2019-06-26   CSCO   53.967571\n",
       "...           ...         ...\n",
       "2019-07-15     PG  111.260757\n",
       "2019-07-16     PG  111.655769\n",
       "2019-07-17     PG  111.703934\n",
       "2019-07-18     PG  111.942490\n",
       "2019-07-19     PG  111.525513\n",
       "\n",
       "[84 rows x 2 columns]"
      ]
     },
     "execution_count": 13,
     "metadata": {},
     "output_type": "execute_result"
    }
   ],
   "source": [
    "stock_df"
   ]
  },
  {
   "cell_type": "code",
   "execution_count": 14,
   "metadata": {},
   "outputs": [
    {
     "data": {
      "text/html": [
       "<div>\n",
       "<style scoped>\n",
       "    .dataframe tbody tr th:only-of-type {\n",
       "        vertical-align: middle;\n",
       "    }\n",
       "\n",
       "    .dataframe tbody tr th {\n",
       "        vertical-align: top;\n",
       "    }\n",
       "\n",
       "    .dataframe thead th {\n",
       "        text-align: right;\n",
       "    }\n",
       "</style>\n",
       "<table border=\"1\" class=\"dataframe\">\n",
       "  <thead>\n",
       "    <tr style=\"text-align: right;\">\n",
       "      <th></th>\n",
       "      <th>AXP</th>\n",
       "      <th>CSCO</th>\n",
       "      <th>HD</th>\n",
       "      <th>PG</th>\n",
       "    </tr>\n",
       "    <tr>\n",
       "      <th>Date</th>\n",
       "      <th></th>\n",
       "      <th></th>\n",
       "      <th></th>\n",
       "      <th></th>\n",
       "    </tr>\n",
       "  </thead>\n",
       "  <tbody>\n",
       "    <tr>\n",
       "      <th>2019-06-20</th>\n",
       "      <td>121.880264</td>\n",
       "      <td>54.739899</td>\n",
       "      <td>203.824600</td>\n",
       "      <td>107.657394</td>\n",
       "    </tr>\n",
       "    <tr>\n",
       "      <th>2019-06-21</th>\n",
       "      <td>121.694901</td>\n",
       "      <td>54.377571</td>\n",
       "      <td>202.030014</td>\n",
       "      <td>107.137115</td>\n",
       "    </tr>\n",
       "    <tr>\n",
       "      <th>2019-06-24</th>\n",
       "      <td>121.119255</td>\n",
       "      <td>54.520596</td>\n",
       "      <td>198.276718</td>\n",
       "      <td>108.225838</td>\n",
       "    </tr>\n",
       "    <tr>\n",
       "      <th>2019-06-25</th>\n",
       "      <td>120.163094</td>\n",
       "      <td>53.471756</td>\n",
       "      <td>197.543427</td>\n",
       "      <td>107.638123</td>\n",
       "    </tr>\n",
       "    <tr>\n",
       "      <th>2019-06-26</th>\n",
       "      <td>120.582642</td>\n",
       "      <td>53.967571</td>\n",
       "      <td>199.164383</td>\n",
       "      <td>105.720833</td>\n",
       "    </tr>\n",
       "  </tbody>\n",
       "</table>\n",
       "</div>"
      ],
      "text/plain": [
       "                   AXP       CSCO          HD          PG\n",
       "Date                                                     \n",
       "2019-06-20  121.880264  54.739899  203.824600  107.657394\n",
       "2019-06-21  121.694901  54.377571  202.030014  107.137115\n",
       "2019-06-24  121.119255  54.520596  198.276718  108.225838\n",
       "2019-06-25  120.163094  53.471756  197.543427  107.638123\n",
       "2019-06-26  120.582642  53.967571  199.164383  105.720833"
      ]
     },
     "execution_count": 14,
     "metadata": {},
     "output_type": "execute_result"
    }
   ],
   "source": [
    "# Create a pivot table to summarise data\n",
    "stock_df = stock_df.reset_index()\n",
    "stock_df = stock_df.set_index('Date')\n",
    "table = stock_df.pivot(columns='ticker')\n",
    "# By specifying col[1] in below list comprehension\n",
    "# You can select the stock names under multi-level column\n",
    "table.columns = [col[1] for col in table.columns]\n",
    "table.head()"
   ]
  },
  {
   "cell_type": "code",
   "execution_count": 15,
   "metadata": {},
   "outputs": [
    {
     "data": {
      "text/plain": [
       "(21, 4)"
      ]
     },
     "execution_count": 15,
     "metadata": {},
     "output_type": "execute_result"
    }
   ],
   "source": [
    "table.shape"
   ]
  },
  {
   "cell_type": "code",
   "execution_count": 16,
   "metadata": {},
   "outputs": [
    {
     "data": {
      "image/png": "[encoded data removed]",
      "text/plain": [
       "<Figure size 432x288 with 1 Axes>"
      ]
     },
     "metadata": {
      "needs_background": "light"
     },
     "output_type": "display_data"
    }
   ],
   "source": [
    "for column in table.columns:\n",
    "    f = table[column] \n",
    "    #f = ((f.pct_change()+1).cumprod())\n",
    "    f.plot(label=column);\n",
    "    plt.legend()\n",
    "    plt.ylabel('price in [USD]')\n",
    "\n",
    "plt.show()"
   ]
  },
  {
   "cell_type": "code",
   "execution_count": 17,
   "metadata": {},
   "outputs": [
    {
     "data": {
      "image/png": "[encoded data removed]",
      "text/plain": [
       "<Figure size 720x504 with 1 Axes>"
      ]
     },
     "metadata": {
      "needs_background": "light"
     },
     "output_type": "display_data"
    }
   ],
   "source": [
    "# Plot all the close prices\n",
    "# the cumulative returns for individual stocks\n",
    "((table.pct_change()+1).cumprod()).plot(figsize=(10, 7))\n",
    "# Show the legend\n",
    "plt.legend()\n",
    "# Define the label for the title of the figure\n",
    "plt.title(\"Adjusted Close Price\", fontsize=16)\n",
    "# Define the labels for x-axis and y-axis\n",
    "plt.ylabel('Price', fontsize=14)\n",
    "plt.xlabel('Year', fontsize=14)\n",
    "# Plot the grid lines\n",
    "plt.grid(which=\"major\", color='k', linestyle='-.', linewidth=0.5)\n",
    "plt.show()"
   ]
  },
  {
   "cell_type": "markdown",
   "metadata": {},
   "source": [
    "### Load Data from a Table (csv)"
   ]
  },
  {
   "cell_type": "code",
   "execution_count": 18,
   "metadata": {},
   "outputs": [],
   "source": [
    "water_data = pd.read_csv('WaterLevel-Dataset.csv')"
   ]
  },
  {
   "cell_type": "markdown",
   "metadata": {},
   "source": [
    "Reverse data as it is ordered backwards"
   ]
  },
  {
   "cell_type": "code",
   "execution_count": 19,
   "metadata": {},
   "outputs": [
    {
     "data": {
      "text/html": [
       "<div>\n",
       "<style scoped>\n",
       "    .dataframe tbody tr th:only-of-type {\n",
       "        vertical-align: middle;\n",
       "    }\n",
       "\n",
       "    .dataframe tbody tr th {\n",
       "        vertical-align: top;\n",
       "    }\n",
       "\n",
       "    .dataframe thead th {\n",
       "        text-align: right;\n",
       "    }\n",
       "</style>\n",
       "<table border=\"1\" class=\"dataframe\">\n",
       "  <thead>\n",
       "    <tr style=\"text-align: right;\">\n",
       "      <th></th>\n",
       "      <th>Date</th>\n",
       "      <th>Capacity (%)</th>\n",
       "      <th>Water Level (m)</th>\n",
       "    </tr>\n",
       "  </thead>\n",
       "  <tbody>\n",
       "    <tr>\n",
       "      <th>0</th>\n",
       "      <td>17-Apr-17</td>\n",
       "      <td>78.4</td>\n",
       "      <td>26.0</td>\n",
       "    </tr>\n",
       "    <tr>\n",
       "      <th>1</th>\n",
       "      <td>24-Apr-17</td>\n",
       "      <td>70.3</td>\n",
       "      <td>23.3</td>\n",
       "    </tr>\n",
       "    <tr>\n",
       "      <th>2</th>\n",
       "      <td>01-May-17</td>\n",
       "      <td>58.6</td>\n",
       "      <td>19.5</td>\n",
       "    </tr>\n",
       "    <tr>\n",
       "      <th>3</th>\n",
       "      <td>08-May-17</td>\n",
       "      <td>53.4</td>\n",
       "      <td>17.7</td>\n",
       "    </tr>\n",
       "    <tr>\n",
       "      <th>4</th>\n",
       "      <td>15-May-17</td>\n",
       "      <td>47.9</td>\n",
       "      <td>15.9</td>\n",
       "    </tr>\n",
       "  </tbody>\n",
       "</table>\n",
       "</div>"
      ],
      "text/plain": [
       "        Date  Capacity (%)  Water Level (m)\n",
       "0  17-Apr-17          78.4             26.0\n",
       "1  24-Apr-17          70.3             23.3\n",
       "2  01-May-17          58.6             19.5\n",
       "3  08-May-17          53.4             17.7\n",
       "4  15-May-17          47.9             15.9"
      ]
     },
     "execution_count": 19,
     "metadata": {},
     "output_type": "execute_result"
    }
   ],
   "source": [
    "water_data = water_data.iloc[::-1]\n",
    "water_data.reset_index(inplace=True, drop=True)\n",
    "water_data.head()"
   ]
  },
  {
   "cell_type": "markdown",
   "metadata": {},
   "source": [
    "### Check if there any Missing Data"
   ]
  },
  {
   "cell_type": "code",
   "execution_count": 20,
   "metadata": {},
   "outputs": [
    {
     "data": {
      "text/plain": [
       "Date               0\n",
       "Capacity (%)       0\n",
       "Water Level (m)    0\n",
       "dtype: int64"
      ]
     },
     "execution_count": 20,
     "metadata": {},
     "output_type": "execute_result"
    }
   ],
   "source": [
    "water_data.isnull().sum()"
   ]
  },
  {
   "cell_type": "markdown",
   "metadata": {},
   "source": [
    "### Set the Date column as index"
   ]
  },
  {
   "cell_type": "code",
   "execution_count": 21,
   "metadata": {},
   "outputs": [
    {
     "name": "stdout",
     "output_type": "stream",
     "text": [
      "<class 'pandas.core.frame.DataFrame'>\n",
      "DatetimeIndex: 125 entries, 2017-04-17 to 2019-09-09\n",
      "Data columns (total 2 columns):\n",
      " #   Column           Non-Null Count  Dtype  \n",
      "---  ------           --------------  -----  \n",
      " 0   Capacity (%)     125 non-null    float64\n",
      " 1   Water Level (m)  125 non-null    float64\n",
      "dtypes: float64(2)\n",
      "memory usage: 2.9 KB\n"
     ]
    }
   ],
   "source": [
    "# convert to datetime\n",
    "water_data['Date'] = pd.to_datetime(water_data['Date'])\n",
    "\n",
    "# set the index\n",
    "water_data.set_index('Date', inplace=True)\n",
    "water_data.info()"
   ]
  },
  {
   "cell_type": "code",
   "execution_count": 22,
   "metadata": {},
   "outputs": [
    {
     "data": {
      "text/html": [
       "<div>\n",
       "<style scoped>\n",
       "    .dataframe tbody tr th:only-of-type {\n",
       "        vertical-align: middle;\n",
       "    }\n",
       "\n",
       "    .dataframe tbody tr th {\n",
       "        vertical-align: top;\n",
       "    }\n",
       "\n",
       "    .dataframe thead th {\n",
       "        text-align: right;\n",
       "    }\n",
       "</style>\n",
       "<table border=\"1\" class=\"dataframe\">\n",
       "  <thead>\n",
       "    <tr style=\"text-align: right;\">\n",
       "      <th></th>\n",
       "      <th>Capacity (%)</th>\n",
       "      <th>Water Level (m)</th>\n",
       "    </tr>\n",
       "    <tr>\n",
       "      <th>Date</th>\n",
       "      <th></th>\n",
       "      <th></th>\n",
       "    </tr>\n",
       "  </thead>\n",
       "  <tbody>\n",
       "    <tr>\n",
       "      <th>2017-04-17</th>\n",
       "      <td>78.4</td>\n",
       "      <td>26.0</td>\n",
       "    </tr>\n",
       "    <tr>\n",
       "      <th>2017-04-24</th>\n",
       "      <td>70.3</td>\n",
       "      <td>23.3</td>\n",
       "    </tr>\n",
       "    <tr>\n",
       "      <th>2017-05-01</th>\n",
       "      <td>58.6</td>\n",
       "      <td>19.5</td>\n",
       "    </tr>\n",
       "    <tr>\n",
       "      <th>2017-05-08</th>\n",
       "      <td>53.4</td>\n",
       "      <td>17.7</td>\n",
       "    </tr>\n",
       "    <tr>\n",
       "      <th>2017-05-15</th>\n",
       "      <td>47.9</td>\n",
       "      <td>15.9</td>\n",
       "    </tr>\n",
       "  </tbody>\n",
       "</table>\n",
       "</div>"
      ],
      "text/plain": [
       "            Capacity (%)  Water Level (m)\n",
       "Date                                     \n",
       "2017-04-17          78.4             26.0\n",
       "2017-04-24          70.3             23.3\n",
       "2017-05-01          58.6             19.5\n",
       "2017-05-08          53.4             17.7\n",
       "2017-05-15          47.9             15.9"
      ]
     },
     "execution_count": 22,
     "metadata": {},
     "output_type": "execute_result"
    }
   ],
   "source": [
    "water_data.head()"
   ]
  },
  {
   "cell_type": "markdown",
   "metadata": {},
   "source": [
    "### Visualise Data"
   ]
  },
  {
   "cell_type": "code",
   "execution_count": 23,
   "metadata": {},
   "outputs": [
    {
     "data": {
      "text/plain": [
       "<AxesSubplot:xlabel='Date'>"
      ]
     },
     "execution_count": 23,
     "metadata": {},
     "output_type": "execute_result"
    },
    {
     "data": {
      "image/png": "[encoded data removed]",
      "text/plain": [
       "<Figure size 432x288 with 1 Axes>"
      ]
     },
     "metadata": {
      "needs_background": "light"
     },
     "output_type": "display_data"
    }
   ],
   "source": [
    "water_data['Capacity (%)'].plot()"
   ]
  },
  {
   "cell_type": "code",
   "execution_count": 24,
   "metadata": {
    "scrolled": true
   },
   "outputs": [
    {
     "data": {
      "text/plain": [
       "<AxesSubplot:xlabel='Date'>"
      ]
     },
     "execution_count": 24,
     "metadata": {},
     "output_type": "execute_result"
    },
    {
     "data": {
      "image/png": "[encoded data removed]",
      "text/plain": [
       "<Figure size 432x288 with 1 Axes>"
      ]
     },
     "metadata": {
      "needs_background": "light"
     },
     "output_type": "display_data"
    }
   ],
   "source": [
    "water_data['Water Level (m)'].plot()"
   ]
  },
  {
   "cell_type": "code",
   "execution_count": 25,
   "metadata": {},
   "outputs": [
    {
     "data": {
      "text/plain": [
       "(125, 2)"
      ]
     },
     "execution_count": 25,
     "metadata": {},
     "output_type": "execute_result"
    }
   ],
   "source": [
    "water_data.values.shape"
   ]
  },
  {
   "cell_type": "markdown",
   "metadata": {},
   "source": [
    "### Split the Data into Train/test subsets .. ONLY use IBM"
   ]
  },
  {
   "cell_type": "code",
   "execution_count": 26,
   "metadata": {},
   "outputs": [
    {
     "data": {
      "text/plain": [
       "(505, 8)"
      ]
     },
     "execution_count": 26,
     "metadata": {},
     "output_type": "execute_result"
    }
   ],
   "source": [
    "stock_data.shape"
   ]
  },
  {
   "cell_type": "code",
   "execution_count": 27,
   "metadata": {},
   "outputs": [
    {
     "data": {
      "text/plain": [
       "<AxesSubplot:xlabel='Date'>"
      ]
     },
     "execution_count": 27,
     "metadata": {},
     "output_type": "execute_result"
    },
    {
     "data": {
      "image/png": "[encoded data removed]",
      "text/plain": [
       "<Figure size 432x288 with 1 Axes>"
      ]
     },
     "metadata": {
      "needs_background": "light"
     },
     "output_type": "display_data"
    }
   ],
   "source": [
    "data = stock_data['IBM']\n",
    "data.plot()"
   ]
  },
  {
   "cell_type": "code",
   "execution_count": 28,
   "metadata": {},
   "outputs": [
    {
     "name": "stdout",
     "output_type": "stream",
     "text": [
      "train shape: (380,)\n",
      "test shape:  (125,)\n",
      "Min x: 90.98784637451172\n",
      "Max x: 149.11178588867188\n"
     ]
    }
   ],
   "source": [
    "train_df = data[:380]#aapl['Adj Close'][:250]#df['Water Level (m)'][0:100]\n",
    "print('train shape:', train_df.shape)\n",
    "test_df = data[380:]#aapl['Adj Close'][250:]#df['Water Level (m)'][100:]\n",
    "print('test shape: ',test_df.shape)\n",
    "\n",
    "print(\"Min x:\", np.min(train_df))\n",
    "print(\"Max x:\", np.max(train_df))"
   ]
  },
  {
   "cell_type": "markdown",
   "metadata": {},
   "source": [
    "### Normalise the Data into values between 0 and 1"
   ]
  },
  {
   "cell_type": "code",
   "execution_count": 29,
   "metadata": {},
   "outputs": [],
   "source": [
    "## After this step train and test will become numpy matrices instead of pandas dataframes\n",
    "## NOTICE: we use the model that is fitted to the train data to scale the test data .. \n",
    "## very important to do it this way!\n",
    "\n",
    "x_scaler = MinMaxScaler()\n",
    "train = x_scaler.fit_transform(train_df.values.reshape(-1, 1))\n",
    "test = x_scaler.transform(test_df.values.reshape(-1, 1))"
   ]
  },
  {
   "cell_type": "code",
   "execution_count": 30,
   "metadata": {},
   "outputs": [
    {
     "name": "stdout",
     "output_type": "stream",
     "text": [
      "Min x: 0.0\n",
      "Max x: 0.9999999999999998\n"
     ]
    }
   ],
   "source": [
    "# make sure values are between 0-1\n",
    "print(\"Min x:\", np.min(train))\n",
    "print(\"Max x:\", np.max(train))"
   ]
  },
  {
   "cell_type": "markdown",
   "metadata": {},
   "source": [
    "### To Split Data into Sequences\n"
   ]
  },
  {
   "cell_type": "code",
   "execution_count": 31,
   "metadata": {},
   "outputs": [],
   "source": [
    "# split a univariate sequence into samples\n",
    "def split_sequence(sequence, n_steps):\n",
    "    X, y = [], []\n",
    "    for i in range(len(sequence)):\n",
    "        # find the end of this pattern\n",
    "        end_ix = i + n_steps\n",
    "        # check if we are beyond the sequence\n",
    "        if end_ix > len(sequence)-1:\n",
    "            break\n",
    "        # gather input and output parts of the pattern\n",
    "        seq_x, seq_y = sequence[i:end_ix], sequence[end_ix]\n",
    "        X.append(seq_x)\n",
    "        y.append(seq_y)\n",
    "    return np.array(X), np.array(y)"
   ]
  },
  {
   "cell_type": "markdown",
   "metadata": {},
   "source": [
    "#### Create sequences for training data"
   ]
  },
  {
   "cell_type": "code",
   "execution_count": 32,
   "metadata": {},
   "outputs": [
    {
     "data": {
      "text/plain": [
       "(array([[1, 2, 3],\n",
       "        [2, 3, 4],\n",
       "        [3, 4, 5],\n",
       "        [4, 5, 6],\n",
       "        [5, 6, 7],\n",
       "        [6, 7, 8],\n",
       "        [7, 8, 9]]),\n",
       " array([ 4,  5,  6,  7,  8,  9, 10]))"
      ]
     },
     "execution_count": 32,
     "metadata": {},
     "output_type": "execute_result"
    }
   ],
   "source": [
    "seq = [1,2,3,4,5,6,7,8,9,10]\n",
    "steps = 3\n",
    "split_sequence(seq,steps)"
   ]
  },
  {
   "cell_type": "code",
   "execution_count": 33,
   "metadata": {},
   "outputs": [],
   "source": [
    "# define input sequence\n",
    "train #train['Capacity (%)'].values\n",
    "# choose a number of time steps\n",
    "n_steps = 5\n",
    "# split into samples\n",
    "X_train, y_train = split_sequence(train, n_steps)"
   ]
  },
  {
   "cell_type": "code",
   "execution_count": 34,
   "metadata": {},
   "outputs": [
    {
     "data": {
      "text/plain": [
       "array([[[0.20774147],\n",
       "        [0.23176404],\n",
       "        [0.19588613],\n",
       "        [0.26467834],\n",
       "        [0.27762538]],\n",
       "\n",
       "       [[0.23176404],\n",
       "        [0.19588613],\n",
       "        [0.26467834],\n",
       "        [0.27762538],\n",
       "        [0.30383199]],\n",
       "\n",
       "       [[0.19588613],\n",
       "        [0.26467834],\n",
       "        [0.27762538],\n",
       "        [0.30383199],\n",
       "        [0.31724737]],\n",
       "\n",
       "       ...,\n",
       "\n",
       "       [[0.43345622],\n",
       "        [0.38340491],\n",
       "        [0.42709506],\n",
       "        [0.39629446],\n",
       "        [0.43914756]],\n",
       "\n",
       "       [[0.38340491],\n",
       "        [0.42709506],\n",
       "        [0.39629446],\n",
       "        [0.43914756],\n",
       "        [0.45622183]],\n",
       "\n",
       "       [[0.42709506],\n",
       "        [0.39629446],\n",
       "        [0.43914756],\n",
       "        [0.45622183],\n",
       "        [0.41889271]]])"
      ]
     },
     "execution_count": 34,
     "metadata": {},
     "output_type": "execute_result"
    }
   ],
   "source": [
    "X_train"
   ]
  },
  {
   "cell_type": "markdown",
   "metadata": {},
   "source": [
    "#### Create sequences for test data"
   ]
  },
  {
   "cell_type": "code",
   "execution_count": 35,
   "metadata": {},
   "outputs": [],
   "source": [
    "# define test sequence\n",
    "#test_raw_seq = test #test['Capacity (%)'].values\n",
    "# choose a number of time steps .. same as training!\n",
    "#n_steps = 5\n",
    "# split into samples\n",
    "X_test, y_test = split_sequence(test, n_steps)\n",
    "#X_test.shape"
   ]
  },
  {
   "cell_type": "markdown",
   "metadata": {},
   "source": [
    "#### Data Shape suitable for feeding into TF/Keras"
   ]
  },
  {
   "cell_type": "code",
   "execution_count": 36,
   "metadata": {},
   "outputs": [
    {
     "name": "stdout",
     "output_type": "stream",
     "text": [
      "(375, 5, 1)\n",
      "(120, 5, 1)\n"
     ]
    }
   ],
   "source": [
    "print(X_train.shape)\n",
    "print(X_test.shape)"
   ]
  },
  {
   "cell_type": "markdown",
   "metadata": {},
   "source": [
    "## Model Building and Fitting (RNN, LSTM and GRU)"
   ]
  },
  {
   "cell_type": "code",
   "execution_count": 37,
   "metadata": {
    "scrolled": false
   },
   "outputs": [
    {
     "name": "stdout",
     "output_type": "stream",
     "text": [
      "Epoch 1/100\n",
      "10/10 [==============================] - 7s 124ms/step - loss: 0.4014 - val_loss: 0.1635\n",
      "\n",
      "Epoch 00001: val_loss improved from inf to 0.16353, saving model to best_model.h5\n",
      "Epoch 2/100\n",
      "10/10 [==============================] - 0s 12ms/step - loss: 0.3705 - val_loss: 0.1311\n",
      "\n",
      "Epoch 00002: val_loss improved from 0.16353 to 0.13109, saving model to best_model.h5\n",
      "Epoch 3/100\n",
      "10/10 [==============================] - 0s 14ms/step - loss: 0.3137 - val_loss: 0.0929\n",
      "\n",
      "Epoch 00003: val_loss improved from 0.13109 to 0.09288, saving model to best_model.h5\n",
      "Epoch 4/100\n",
      "10/10 [==============================] - 0s 14ms/step - loss: 0.2388 - val_loss: 0.0503\n",
      "\n",
      "Epoch 00004: val_loss improved from 0.09288 to 0.05034, saving model to best_model.h5\n",
      "Epoch 5/100\n",
      "10/10 [==============================] - 0s 11ms/step - loss: 0.1410 - val_loss: 0.0175\n",
      "\n",
      "Epoch 00005: val_loss improved from 0.05034 to 0.01753, saving model to best_model.h5\n",
      "Epoch 6/100\n",
      "10/10 [==============================] - 0s 13ms/step - loss: 0.0544 - val_loss: 0.0433\n",
      "\n",
      "Epoch 00006: val_loss did not improve from 0.01753\n",
      "Epoch 7/100\n",
      "10/10 [==============================] - 0s 12ms/step - loss: 0.0135 - val_loss: 0.0770\n",
      "\n",
      "Epoch 00007: val_loss did not improve from 0.01753\n",
      "Epoch 8/100\n",
      "10/10 [==============================] - 0s 14ms/step - loss: 0.0148 - val_loss: 0.0397\n",
      "\n",
      "Epoch 00008: val_loss did not improve from 0.01753\n",
      "Epoch 9/100\n",
      "10/10 [==============================] - 0s 14ms/step - loss: 0.0125 - val_loss: 0.0405\n",
      "\n",
      "Epoch 00009: val_loss did not improve from 0.01753\n",
      "Epoch 10/100\n",
      "10/10 [==============================] - 0s 14ms/step - loss: 0.0113 - val_loss: 0.0473\n",
      "\n",
      "Epoch 00010: val_loss did not improve from 0.01753\n",
      "Epoch 11/100\n",
      "10/10 [==============================] - 0s 14ms/step - loss: 0.0111 - val_loss: 0.0453\n",
      "\n",
      "Epoch 00011: val_loss did not improve from 0.01753\n",
      "Epoch 12/100\n",
      "10/10 [==============================] - 0s 12ms/step - loss: 0.0090 - val_loss: 0.0390\n",
      "\n",
      "Epoch 00012: val_loss did not improve from 0.01753\n",
      "Epoch 13/100\n",
      "10/10 [==============================] - 0s 12ms/step - loss: 0.0089 - val_loss: 0.0443\n",
      "\n",
      "Epoch 00013: val_loss did not improve from 0.01753\n",
      "Epoch 14/100\n",
      "10/10 [==============================] - 0s 14ms/step - loss: 0.0129 - val_loss: 0.0382\n",
      "\n",
      "Epoch 00014: val_loss did not improve from 0.01753\n",
      "Epoch 15/100\n",
      "10/10 [==============================] - 0s 13ms/step - loss: 0.0096 - val_loss: 0.0368\n",
      "\n",
      "Epoch 00015: val_loss did not improve from 0.01753\n",
      "Epoch 16/100\n",
      "10/10 [==============================] - 0s 15ms/step - loss: 0.0095 - val_loss: 0.0361\n",
      "\n",
      "Epoch 00016: val_loss did not improve from 0.01753\n",
      "Epoch 17/100\n",
      "10/10 [==============================] - 0s 12ms/step - loss: 0.0082 - val_loss: 0.0340\n",
      "\n",
      "Epoch 00017: val_loss did not improve from 0.01753\n",
      "Epoch 18/100\n",
      "10/10 [==============================] - 0s 12ms/step - loss: 0.0079 - val_loss: 0.0310\n",
      "\n",
      "Epoch 00018: val_loss did not improve from 0.01753\n",
      "Epoch 19/100\n",
      "10/10 [==============================] - 0s 14ms/step - loss: 0.0075 - val_loss: 0.0289\n",
      "\n",
      "Epoch 00019: val_loss did not improve from 0.01753\n",
      "Epoch 20/100\n",
      "10/10 [==============================] - 0s 26ms/step - loss: 0.0065 - val_loss: 0.0260\n",
      "\n",
      "Epoch 00020: val_loss did not improve from 0.01753\n",
      "Epoch 21/100\n",
      "10/10 [==============================] - 0s 12ms/step - loss: 0.0071 - val_loss: 0.0217\n",
      "\n",
      "Epoch 00021: val_loss did not improve from 0.01753\n",
      "Epoch 22/100\n",
      "10/10 [==============================] - 0s 12ms/step - loss: 0.0060 - val_loss: 0.0208\n",
      "\n",
      "Epoch 00022: val_loss did not improve from 0.01753\n",
      "Epoch 23/100\n",
      "10/10 [==============================] - 0s 12ms/step - loss: 0.0054 - val_loss: 0.0191\n",
      "\n",
      "Epoch 00023: val_loss did not improve from 0.01753\n",
      "Epoch 24/100\n",
      "10/10 [==============================] - 0s 12ms/step - loss: 0.0057 - val_loss: 0.0178\n",
      "\n",
      "Epoch 00024: val_loss did not improve from 0.01753\n",
      "Epoch 25/100\n",
      "10/10 [==============================] - 0s 13ms/step - loss: 0.0064 - val_loss: 0.0147\n",
      "\n",
      "Epoch 00025: val_loss improved from 0.01753 to 0.01466, saving model to best_model.h5\n",
      "Epoch 26/100\n",
      "10/10 [==============================] - 0s 14ms/step - loss: 0.0075 - val_loss: 0.0149\n",
      "\n",
      "Epoch 00026: val_loss did not improve from 0.01466\n",
      "Epoch 27/100\n",
      "10/10 [==============================] - 0s 13ms/step - loss: 0.0039 - val_loss: 0.0134\n",
      "\n",
      "Epoch 00027: val_loss improved from 0.01466 to 0.01341, saving model to best_model.h5\n",
      "Epoch 28/100\n",
      "10/10 [==============================] - 0s 13ms/step - loss: 0.0048 - val_loss: 0.0130\n",
      "\n",
      "Epoch 00028: val_loss improved from 0.01341 to 0.01299, saving model to best_model.h5\n",
      "Epoch 29/100\n",
      "10/10 [==============================] - 0s 14ms/step - loss: 0.0057 - val_loss: 0.0113\n",
      "\n",
      "Epoch 00029: val_loss improved from 0.01299 to 0.01126, saving model to best_model.h5\n",
      "Epoch 30/100\n",
      "10/10 [==============================] - 0s 17ms/step - loss: 0.0049 - val_loss: 0.0121\n",
      "\n",
      "Epoch 00030: val_loss did not improve from 0.01126\n",
      "Epoch 31/100\n",
      "10/10 [==============================] - 0s 15ms/step - loss: 0.0040 - val_loss: 0.0112\n",
      "\n",
      "Epoch 00031: val_loss improved from 0.01126 to 0.01124, saving model to best_model.h5\n",
      "Epoch 32/100\n",
      "10/10 [==============================] - 0s 13ms/step - loss: 0.0050 - val_loss: 0.0107\n",
      "\n",
      "Epoch 00032: val_loss improved from 0.01124 to 0.01070, saving model to best_model.h5\n",
      "Epoch 33/100\n",
      "10/10 [==============================] - 0s 12ms/step - loss: 0.0047 - val_loss: 0.0110\n",
      "\n",
      "Epoch 00033: val_loss did not improve from 0.01070\n",
      "Epoch 34/100\n",
      "10/10 [==============================] - 0s 14ms/step - loss: 0.0048 - val_loss: 0.0103\n",
      "\n",
      "Epoch 00034: val_loss improved from 0.01070 to 0.01033, saving model to best_model.h5\n",
      "Epoch 35/100\n",
      "10/10 [==============================] - 0s 13ms/step - loss: 0.0049 - val_loss: 0.0091\n",
      "\n",
      "Epoch 00035: val_loss improved from 0.01033 to 0.00909, saving model to best_model.h5\n",
      "Epoch 36/100\n",
      "10/10 [==============================] - 0s 13ms/step - loss: 0.0046 - val_loss: 0.0107\n",
      "\n",
      "Epoch 00036: val_loss did not improve from 0.00909\n",
      "Epoch 37/100\n",
      "10/10 [==============================] - 0s 14ms/step - loss: 0.0043 - val_loss: 0.0100\n",
      "\n",
      "Epoch 00037: val_loss did not improve from 0.00909\n",
      "Epoch 38/100\n",
      "10/10 [==============================] - 0s 12ms/step - loss: 0.0046 - val_loss: 0.0097\n",
      "\n",
      "Epoch 00038: val_loss did not improve from 0.00909\n",
      "Epoch 39/100\n",
      "10/10 [==============================] - 0s 14ms/step - loss: 0.0046 - val_loss: 0.0095\n",
      "\n",
      "Epoch 00039: val_loss did not improve from 0.00909\n",
      "Epoch 40/100\n",
      "10/10 [==============================] - 0s 13ms/step - loss: 0.0048 - val_loss: 0.0095\n",
      "\n",
      "Epoch 00040: val_loss did not improve from 0.00909\n",
      "Epoch 41/100\n",
      "10/10 [==============================] - 0s 13ms/step - loss: 0.0057 - val_loss: 0.0088\n",
      "\n",
      "Epoch 00041: val_loss improved from 0.00909 to 0.00881, saving model to best_model.h5\n",
      "Epoch 42/100\n",
      "10/10 [==============================] - 0s 14ms/step - loss: 0.0041 - val_loss: 0.0086\n",
      "\n",
      "Epoch 00042: val_loss improved from 0.00881 to 0.00862, saving model to best_model.h5\n",
      "Epoch 43/100\n",
      "10/10 [==============================] - 0s 14ms/step - loss: 0.0056 - val_loss: 0.0093\n",
      "\n",
      "Epoch 00043: val_loss did not improve from 0.00862\n",
      "Epoch 44/100\n",
      "10/10 [==============================] - 0s 13ms/step - loss: 0.0050 - val_loss: 0.0092\n",
      "\n",
      "Epoch 00044: val_loss did not improve from 0.00862\n",
      "Epoch 45/100\n",
      "10/10 [==============================] - 0s 13ms/step - loss: 0.0044 - val_loss: 0.0089\n",
      "\n",
      "Epoch 00045: val_loss did not improve from 0.00862\n",
      "Epoch 46/100\n",
      "10/10 [==============================] - 0s 15ms/step - loss: 0.0045 - val_loss: 0.0088\n",
      "\n",
      "Epoch 00046: val_loss did not improve from 0.00862\n",
      "Epoch 47/100\n",
      "10/10 [==============================] - 0s 16ms/step - loss: 0.0041 - val_loss: 0.0086\n",
      "\n",
      "Epoch 00047: val_loss improved from 0.00862 to 0.00859, saving model to best_model.h5\n",
      "Epoch 48/100\n",
      "10/10 [==============================] - 0s 15ms/step - loss: 0.0050 - val_loss: 0.0098\n",
      "\n",
      "Epoch 00048: val_loss did not improve from 0.00859\n",
      "Epoch 49/100\n",
      "10/10 [==============================] - 0s 21ms/step - loss: 0.0055 - val_loss: 0.0083\n",
      "\n",
      "Epoch 00049: val_loss improved from 0.00859 to 0.00832, saving model to best_model.h5\n",
      "Epoch 50/100\n",
      "10/10 [==============================] - 0s 22ms/step - loss: 0.0043 - val_loss: 0.0090\n",
      "\n",
      "Epoch 00050: val_loss did not improve from 0.00832\n",
      "Epoch 51/100\n"
     ]
    },
    {
     "name": "stdout",
     "output_type": "stream",
     "text": [
      "10/10 [==============================] - 0s 24ms/step - loss: 0.0051 - val_loss: 0.0084\n",
      "\n",
      "Epoch 00051: val_loss did not improve from 0.00832\n",
      "Epoch 52/100\n",
      "10/10 [==============================] - 0s 24ms/step - loss: 0.0038 - val_loss: 0.0082\n",
      "\n",
      "Epoch 00052: val_loss improved from 0.00832 to 0.00823, saving model to best_model.h5\n",
      "Epoch 53/100\n",
      "10/10 [==============================] - 0s 28ms/step - loss: 0.0043 - val_loss: 0.0084\n",
      "\n",
      "Epoch 00053: val_loss did not improve from 0.00823\n",
      "Epoch 54/100\n",
      "10/10 [==============================] - 0s 30ms/step - loss: 0.0046 - val_loss: 0.0083\n",
      "\n",
      "Epoch 00054: val_loss did not improve from 0.00823\n",
      "Epoch 55/100\n",
      "10/10 [==============================] - 0s 34ms/step - loss: 0.0039 - val_loss: 0.0085\n",
      "\n",
      "Epoch 00055: val_loss did not improve from 0.00823\n",
      "Epoch 56/100\n",
      "10/10 [==============================] - 0s 38ms/step - loss: 0.0052 - val_loss: 0.0085\n",
      "\n",
      "Epoch 00056: val_loss did not improve from 0.00823\n",
      "Epoch 57/100\n",
      "10/10 [==============================] - 0s 23ms/step - loss: 0.0045 - val_loss: 0.0081\n",
      "\n",
      "Epoch 00057: val_loss improved from 0.00823 to 0.00806, saving model to best_model.h5\n",
      "Epoch 58/100\n",
      "10/10 [==============================] - 0s 20ms/step - loss: 0.0045 - val_loss: 0.0085\n",
      "\n",
      "Epoch 00058: val_loss did not improve from 0.00806\n",
      "Epoch 59/100\n",
      "10/10 [==============================] - 0s 15ms/step - loss: 0.0053 - val_loss: 0.0084\n",
      "\n",
      "Epoch 00059: val_loss did not improve from 0.00806\n",
      "Epoch 60/100\n",
      "10/10 [==============================] - 0s 15ms/step - loss: 0.0049 - val_loss: 0.0083\n",
      "\n",
      "Epoch 00060: val_loss did not improve from 0.00806\n",
      "Epoch 61/100\n",
      "10/10 [==============================] - 0s 14ms/step - loss: 0.0039 - val_loss: 0.0080\n",
      "\n",
      "Epoch 00061: val_loss improved from 0.00806 to 0.00804, saving model to best_model.h5\n",
      "Epoch 62/100\n",
      "10/10 [==============================] - 0s 13ms/step - loss: 0.0051 - val_loss: 0.0085\n",
      "\n",
      "Epoch 00062: val_loss did not improve from 0.00804\n",
      "Epoch 63/100\n",
      "10/10 [==============================] - 0s 13ms/step - loss: 0.0048 - val_loss: 0.0082\n",
      "\n",
      "Epoch 00063: val_loss did not improve from 0.00804\n",
      "Epoch 64/100\n",
      "10/10 [==============================] - 0s 12ms/step - loss: 0.0052 - val_loss: 0.0081\n",
      "\n",
      "Epoch 00064: val_loss did not improve from 0.00804\n",
      "Epoch 65/100\n",
      "10/10 [==============================] - 0s 14ms/step - loss: 0.0040 - val_loss: 0.0082\n",
      "\n",
      "Epoch 00065: val_loss did not improve from 0.00804\n",
      "Epoch 66/100\n",
      "10/10 [==============================] - 0s 14ms/step - loss: 0.0047 - val_loss: 0.0080\n",
      "\n",
      "Epoch 00066: val_loss improved from 0.00804 to 0.00799, saving model to best_model.h5\n",
      "Epoch 67/100\n",
      "10/10 [==============================] - 0s 14ms/step - loss: 0.0041 - val_loss: 0.0082\n",
      "\n",
      "Epoch 00067: val_loss did not improve from 0.00799\n",
      "Epoch 68/100\n",
      "10/10 [==============================] - 0s 12ms/step - loss: 0.0045 - val_loss: 0.0081\n",
      "\n",
      "Epoch 00068: val_loss did not improve from 0.00799\n",
      "Epoch 69/100\n",
      "10/10 [==============================] - 0s 13ms/step - loss: 0.0040 - val_loss: 0.0080\n",
      "\n",
      "Epoch 00069: val_loss did not improve from 0.00799\n",
      "Epoch 70/100\n",
      "10/10 [==============================] - 0s 13ms/step - loss: 0.0043 - val_loss: 0.0081\n",
      "\n",
      "Epoch 00070: val_loss did not improve from 0.00799\n",
      "Epoch 71/100\n",
      "10/10 [==============================] - 0s 13ms/step - loss: 0.0044 - val_loss: 0.0078\n",
      "\n",
      "Epoch 00071: val_loss improved from 0.00799 to 0.00782, saving model to best_model.h5\n",
      "Epoch 72/100\n",
      "10/10 [==============================] - 0s 16ms/step - loss: 0.0053 - val_loss: 0.0080\n",
      "\n",
      "Epoch 00072: val_loss did not improve from 0.00782\n",
      "Epoch 73/100\n",
      "10/10 [==============================] - 0s 13ms/step - loss: 0.0044 - val_loss: 0.0082\n",
      "\n",
      "Epoch 00073: val_loss did not improve from 0.00782\n",
      "Epoch 74/100\n",
      "10/10 [==============================] - 0s 15ms/step - loss: 0.0044 - val_loss: 0.0078\n",
      "\n",
      "Epoch 00074: val_loss did not improve from 0.00782\n",
      "Epoch 75/100\n",
      "10/10 [==============================] - 0s 13ms/step - loss: 0.0045 - val_loss: 0.0079\n",
      "\n",
      "Epoch 00075: val_loss did not improve from 0.00782\n",
      "Epoch 76/100\n",
      "10/10 [==============================] - 0s 11ms/step - loss: 0.0043 - val_loss: 0.0079\n",
      "\n",
      "Epoch 00076: val_loss did not improve from 0.00782\n",
      "Epoch 77/100\n",
      "10/10 [==============================] - 0s 14ms/step - loss: 0.0045 - val_loss: 0.0080\n",
      "\n",
      "Epoch 00077: val_loss did not improve from 0.00782\n",
      "Epoch 78/100\n",
      "10/10 [==============================] - 0s 14ms/step - loss: 0.0038 - val_loss: 0.0078\n",
      "\n",
      "Epoch 00078: val_loss improved from 0.00782 to 0.00782, saving model to best_model.h5\n",
      "Epoch 79/100\n",
      "10/10 [==============================] - 0s 14ms/step - loss: 0.0047 - val_loss: 0.0081\n",
      "\n",
      "Epoch 00079: val_loss did not improve from 0.00782\n",
      "Epoch 80/100\n",
      "10/10 [==============================] - 0s 13ms/step - loss: 0.0046 - val_loss: 0.0080\n",
      "\n",
      "Epoch 00080: val_loss did not improve from 0.00782\n",
      "Epoch 81/100\n",
      "10/10 [==============================] - 0s 20ms/step - loss: 0.0039 - val_loss: 0.0077\n",
      "\n",
      "Epoch 00081: val_loss improved from 0.00782 to 0.00770, saving model to best_model.h5\n",
      "Epoch 82/100\n",
      "10/10 [==============================] - 0s 31ms/step - loss: 0.0053 - val_loss: 0.0080\n",
      "\n",
      "Epoch 00082: val_loss did not improve from 0.00770\n",
      "Epoch 83/100\n",
      "10/10 [==============================] - 0s 21ms/step - loss: 0.0035 - val_loss: 0.0080\n",
      "\n",
      "Epoch 00083: val_loss did not improve from 0.00770\n",
      "Epoch 84/100\n",
      "10/10 [==============================] - 0s 16ms/step - loss: 0.0049 - val_loss: 0.0079\n",
      "\n",
      "Epoch 00084: val_loss did not improve from 0.00770\n",
      "Epoch 85/100\n",
      "10/10 [==============================] - 0s 16ms/step - loss: 0.0038 - val_loss: 0.0078\n",
      "\n",
      "Epoch 00085: val_loss did not improve from 0.00770\n",
      "Epoch 86/100\n",
      "10/10 [==============================] - 0s 19ms/step - loss: 0.0038 - val_loss: 0.0078\n",
      "\n",
      "Epoch 00086: val_loss did not improve from 0.00770\n",
      "Epoch 87/100\n",
      "10/10 [==============================] - 0s 16ms/step - loss: 0.0047 - val_loss: 0.0077\n",
      "\n",
      "Epoch 00087: val_loss improved from 0.00770 to 0.00767, saving model to best_model.h5\n",
      "Epoch 88/100\n",
      "10/10 [==============================] - 0s 17ms/step - loss: 0.0036 - val_loss: 0.0081\n",
      "\n",
      "Epoch 00088: val_loss did not improve from 0.00767\n",
      "Epoch 89/100\n",
      "10/10 [==============================] - 0s 22ms/step - loss: 0.0037 - val_loss: 0.0077\n",
      "\n",
      "Epoch 00089: val_loss improved from 0.00767 to 0.00766, saving model to best_model.h5\n",
      "Epoch 90/100\n",
      "10/10 [==============================] - 0s 19ms/step - loss: 0.0049 - val_loss: 0.0077\n",
      "\n",
      "Epoch 00090: val_loss did not improve from 0.00766\n",
      "Epoch 91/100\n",
      "10/10 [==============================] - 0s 22ms/step - loss: 0.0043 - val_loss: 0.0079\n",
      "\n",
      "Epoch 00091: val_loss did not improve from 0.00766\n",
      "Epoch 92/100\n",
      "10/10 [==============================] - 0s 17ms/step - loss: 0.0042 - val_loss: 0.0076\n",
      "\n",
      "Epoch 00092: val_loss improved from 0.00766 to 0.00761, saving model to best_model.h5\n",
      "Epoch 93/100\n",
      "10/10 [==============================] - 0s 16ms/step - loss: 0.0033 - val_loss: 0.0075\n",
      "\n",
      "Epoch 00093: val_loss improved from 0.00761 to 0.00754, saving model to best_model.h5\n",
      "Epoch 94/100\n",
      "10/10 [==============================] - 0s 21ms/step - loss: 0.0042 - val_loss: 0.0080\n",
      "\n",
      "Epoch 00094: val_loss did not improve from 0.00754\n",
      "Epoch 95/100\n",
      "10/10 [==============================] - 0s 21ms/step - loss: 0.0039 - val_loss: 0.0077\n",
      "\n",
      "Epoch 00095: val_loss did not improve from 0.00754\n",
      "Epoch 96/100\n",
      "10/10 [==============================] - 0s 19ms/step - loss: 0.0037 - val_loss: 0.0078\n",
      "\n",
      "Epoch 00096: val_loss did not improve from 0.00754\n",
      "Epoch 97/100\n",
      "10/10 [==============================] - 0s 18ms/step - loss: 0.0045 - val_loss: 0.0076\n",
      "\n",
      "Epoch 00097: val_loss did not improve from 0.00754\n",
      "Epoch 98/100\n",
      "10/10 [==============================] - 0s 20ms/step - loss: 0.0040 - val_loss: 0.0080\n",
      "\n",
      "Epoch 00098: val_loss did not improve from 0.00754\n",
      "Epoch 99/100\n",
      "10/10 [==============================] - 0s 21ms/step - loss: 0.0038 - val_loss: 0.0075\n",
      "\n",
      "Epoch 00099: val_loss improved from 0.00754 to 0.00751, saving model to best_model.h5\n",
      "Epoch 100/100\n",
      "10/10 [==============================] - 0s 19ms/step - loss: 0.0047 - val_loss: 0.0080\n",
      "\n",
      "Epoch 00100: val_loss did not improve from 0.00751\n"
     ]
    }
   ],
   "source": [
    "n_features = 1\n",
    "\n",
    "# define model\n",
    "model = Sequential()\n",
    "\n",
    "# Single layer GRU\n",
    "#model.add(GRU(32 , input_shape=(n_steps, n_features) ))\n",
    "\n",
    "# Stacked GRU\n",
    "#model.add(GRU(8 , input_shape=(n_steps, n_features) , return_sequences=True))\n",
    "#model.add(GRU(16, return_sequences=True))\n",
    "#model.add(GRU(32))\n",
    "\n",
    "# Stacked LSTM\n",
    "model.add(LSTM(8, activation='relu', input_shape=(n_steps, n_features), return_sequences=True))\n",
    "model.add(LSTM(16, activation='relu', return_sequences=True))\n",
    "model.add(LSTM(32, activation='relu'))\n",
    "\n",
    "model.add(Dense(1))\n",
    "model.compile(optimizer='adam', loss='mse')\n",
    "\n",
    "\n",
    "# simple early stopping\n",
    "es = EarlyStopping(monitor='val_loss', mode='min', verbose=1, patience=20)\n",
    "mc = ModelCheckpoint('best_model.h5', monitor='val_loss', mode='min', verbose=1, save_best_only=True)\n",
    "\n",
    "history = model.fit(X_train, y_train, validation_split=0.2, epochs=100, batch_size=32, verbose=1, callbacks=[es, mc])\n",
    "\n",
    "# fit model\n",
    "#model.fit(X_train, y_train, epochs=50, verbose=1, callbacks=[es, mc])"
   ]
  },
  {
   "cell_type": "code",
   "execution_count": 38,
   "metadata": {},
   "outputs": [
    {
     "data": {
      "text/plain": [
       "{'loss': [0.4059586226940155,\n",
       "  0.35748937726020813,\n",
       "  0.29812273383140564,\n",
       "  0.22241124510765076,\n",
       "  0.12836329638957977,\n",
       "  0.04027293249964714,\n",
       "  0.015050012618303299,\n",
       "  0.013337040320038795,\n",
       "  0.012173833325505257,\n",
       "  0.011068890802562237,\n",
       "  0.011103644035756588,\n",
       "  0.010692371986806393,\n",
       "  0.010367597453296185,\n",
       "  0.010000783018767834,\n",
       "  0.00972900353372097,\n",
       "  0.009247400797903538,\n",
       "  0.008819013833999634,\n",
       "  0.00834993552416563,\n",
       "  0.007832162082195282,\n",
       "  0.007324523292481899,\n",
       "  0.006953457836061716,\n",
       "  0.0064265052787959576,\n",
       "  0.006009960081428289,\n",
       "  0.005714794155210257,\n",
       "  0.005718959029763937,\n",
       "  0.005269961431622505,\n",
       "  0.005206461530178785,\n",
       "  0.005079442635178566,\n",
       "  0.005056147463619709,\n",
       "  0.0049977595917880535,\n",
       "  0.004943965468555689,\n",
       "  0.004888779018074274,\n",
       "  0.004889256786555052,\n",
       "  0.004845744930207729,\n",
       "  0.005009487271308899,\n",
       "  0.005367580335587263,\n",
       "  0.004831903148442507,\n",
       "  0.004722891841083765,\n",
       "  0.0046923523768782616,\n",
       "  0.0046791802160441875,\n",
       "  0.004844117444008589,\n",
       "  0.005029007792472839,\n",
       "  0.005097385495901108,\n",
       "  0.004729087930172682,\n",
       "  0.004598993342369795,\n",
       "  0.004556738771498203,\n",
       "  0.004601620603352785,\n",
       "  0.004583681467920542,\n",
       "  0.004841620102524757,\n",
       "  0.00447466317564249,\n",
       "  0.004558987449854612,\n",
       "  0.00453911954537034,\n",
       "  0.00459230737760663,\n",
       "  0.004478062503039837,\n",
       "  0.004562960006296635,\n",
       "  0.004556393716484308,\n",
       "  0.0045601618476212025,\n",
       "  0.004542968235909939,\n",
       "  0.004675397649407387,\n",
       "  0.0044617606326937675,\n",
       "  0.0043859160505235195,\n",
       "  0.004743373952805996,\n",
       "  0.004467565566301346,\n",
       "  0.0044031147845089436,\n",
       "  0.004352846648544073,\n",
       "  0.004385948646813631,\n",
       "  0.004320075269788504,\n",
       "  0.0043601104989647865,\n",
       "  0.00431141396984458,\n",
       "  0.004323142115026712,\n",
       "  0.004527130629867315,\n",
       "  0.0043555377051234245,\n",
       "  0.0043016960844397545,\n",
       "  0.004446069709956646,\n",
       "  0.004349785856902599,\n",
       "  0.004301203414797783,\n",
       "  0.004207465797662735,\n",
       "  0.004212217405438423,\n",
       "  0.004235101863741875,\n",
       "  0.004303391557186842,\n",
       "  0.0042893970385193825,\n",
       "  0.00435615424066782,\n",
       "  0.004373439121991396,\n",
       "  0.004266724456101656,\n",
       "  0.004146901424974203,\n",
       "  0.004141794051975012,\n",
       "  0.004234069027006626,\n",
       "  0.004154646769165993,\n",
       "  0.004156684968620539,\n",
       "  0.004149343352764845,\n",
       "  0.004096797201782465,\n",
       "  0.004341553896665573,\n",
       "  0.0044645643793046474,\n",
       "  0.0045403908006846905,\n",
       "  0.004133668728172779,\n",
       "  0.004077245015650988,\n",
       "  0.0040386454202234745,\n",
       "  0.004092366900295019,\n",
       "  0.004102689679712057,\n",
       "  0.004112313501536846],\n",
       " 'val_loss': [0.1635347604751587,\n",
       "  0.13108877837657928,\n",
       "  0.09287828952074051,\n",
       "  0.05033894255757332,\n",
       "  0.017533916980028152,\n",
       "  0.043299127370119095,\n",
       "  0.07695852220058441,\n",
       "  0.0397181399166584,\n",
       "  0.040488746017217636,\n",
       "  0.04726425185799599,\n",
       "  0.04529470577836037,\n",
       "  0.03902775049209595,\n",
       "  0.04428435489535332,\n",
       "  0.03820517286658287,\n",
       "  0.036804359406232834,\n",
       "  0.036138225346803665,\n",
       "  0.033999327570199966,\n",
       "  0.03101268783211708,\n",
       "  0.028864985331892967,\n",
       "  0.025973478332161903,\n",
       "  0.02170187048614025,\n",
       "  0.02083013206720352,\n",
       "  0.019106043502688408,\n",
       "  0.017758503556251526,\n",
       "  0.014656098559498787,\n",
       "  0.014916453510522842,\n",
       "  0.01340776402503252,\n",
       "  0.01299238670617342,\n",
       "  0.011257271282374859,\n",
       "  0.012080986984074116,\n",
       "  0.011238696053624153,\n",
       "  0.010697310790419579,\n",
       "  0.011049052700400352,\n",
       "  0.010331445373594761,\n",
       "  0.00909428857266903,\n",
       "  0.010709636844694614,\n",
       "  0.009994128718972206,\n",
       "  0.009701154194772243,\n",
       "  0.00954537745565176,\n",
       "  0.009495487436652184,\n",
       "  0.008812929503619671,\n",
       "  0.008621667511761189,\n",
       "  0.009263857267796993,\n",
       "  0.009239371865987778,\n",
       "  0.008884784765541553,\n",
       "  0.00883187260478735,\n",
       "  0.008590785786509514,\n",
       "  0.009788465686142445,\n",
       "  0.008316806517541409,\n",
       "  0.008958331309258938,\n",
       "  0.008392204530537128,\n",
       "  0.008227291516959667,\n",
       "  0.008383601903915405,\n",
       "  0.008262942545115948,\n",
       "  0.008540618233382702,\n",
       "  0.008531248196959496,\n",
       "  0.00805866438895464,\n",
       "  0.00850235391408205,\n",
       "  0.008431089110672474,\n",
       "  0.008253303356468678,\n",
       "  0.008044813759624958,\n",
       "  0.008545692078769207,\n",
       "  0.00815623439848423,\n",
       "  0.008089270442724228,\n",
       "  0.008212565444409847,\n",
       "  0.00798653345555067,\n",
       "  0.008173537440598011,\n",
       "  0.008072315715253353,\n",
       "  0.007998555898666382,\n",
       "  0.008114405907690525,\n",
       "  0.007819272577762604,\n",
       "  0.007990246638655663,\n",
       "  0.008190207183361053,\n",
       "  0.007847864180803299,\n",
       "  0.007855726405978203,\n",
       "  0.0079171909019351,\n",
       "  0.007968461140990257,\n",
       "  0.00781707838177681,\n",
       "  0.008112252689898014,\n",
       "  0.008043707348406315,\n",
       "  0.007704309653490782,\n",
       "  0.008033374324440956,\n",
       "  0.0080085638910532,\n",
       "  0.007892289198935032,\n",
       "  0.0077824098989367485,\n",
       "  0.007774326950311661,\n",
       "  0.007674998603761196,\n",
       "  0.008126694709062576,\n",
       "  0.0076618981547653675,\n",
       "  0.007720756344497204,\n",
       "  0.00786620657891035,\n",
       "  0.007614284288138151,\n",
       "  0.007544535677880049,\n",
       "  0.007982699200510979,\n",
       "  0.007726054172962904,\n",
       "  0.007754073012620211,\n",
       "  0.007607461418956518,\n",
       "  0.007973600178956985,\n",
       "  0.007506484165787697,\n",
       "  0.00798036064952612]}"
      ]
     },
     "execution_count": 38,
     "metadata": {},
     "output_type": "execute_result"
    }
   ],
   "source": [
    "history.history"
   ]
  },
  {
   "cell_type": "code",
   "execution_count": 39,
   "metadata": {},
   "outputs": [
    {
     "data": {
      "image/png": "[encoded data removed]",
      "text/plain": [
       "<Figure size 432x288 with 1 Axes>"
      ]
     },
     "metadata": {
      "needs_background": "light"
     },
     "output_type": "display_data"
    }
   ],
   "source": [
    "## visualise performance (training loss vs validation loss)\n",
    "plt.plot(history.history['loss'])\n",
    "plt.plot(history.history['val_loss'])\n",
    "plt.title('model loss')\n",
    "plt.ylabel('loss')\n",
    "plt.xlabel('epoch')\n",
    "plt.legend(['train', 'validation'], loc='upper left')\n",
    "plt.show()"
   ]
  },
  {
   "cell_type": "markdown",
   "metadata": {},
   "source": [
    "## Model Building and Fitting CNN"
   ]
  },
  {
   "cell_type": "code",
   "execution_count": 40,
   "metadata": {},
   "outputs": [
    {
     "name": "stdout",
     "output_type": "stream",
     "text": [
      "Epoch 1/20\n",
      "12/12 [==============================] - 1s 2ms/step - loss: 0.3101\n",
      "Epoch 2/20\n",
      "12/12 [==============================] - 0s 1ms/step - loss: 0.0652\n",
      "Epoch 3/20\n",
      "12/12 [==============================] - 0s 2ms/step - loss: 0.0064\n",
      "Epoch 4/20\n",
      "12/12 [==============================] - 0s 2ms/step - loss: 0.0071\n",
      "Epoch 5/20\n",
      "12/12 [==============================] - 0s 3ms/step - loss: 0.0050\n",
      "Epoch 6/20\n",
      "12/12 [==============================] - 0s 2ms/step - loss: 0.0052\n",
      "Epoch 7/20\n",
      "12/12 [==============================] - 0s 2ms/step - loss: 0.0037\n",
      "Epoch 8/20\n",
      "12/12 [==============================] - 0s 2ms/step - loss: 0.0046\n",
      "Epoch 9/20\n",
      "12/12 [==============================] - 0s 3ms/step - loss: 0.0038\n",
      "Epoch 10/20\n",
      "12/12 [==============================] - 0s 2ms/step - loss: 0.0035\n",
      "Epoch 11/20\n",
      "12/12 [==============================] - 0s 2ms/step - loss: 0.0032\n",
      "Epoch 12/20\n",
      "12/12 [==============================] - 0s 2ms/step - loss: 0.0032\n",
      "Epoch 13/20\n",
      "12/12 [==============================] - 0s 2ms/step - loss: 0.0030\n",
      "Epoch 14/20\n",
      "12/12 [==============================] - 0s 3ms/step - loss: 0.0028\n",
      "Epoch 15/20\n",
      "12/12 [==============================] - 0s 2ms/step - loss: 0.0032\n",
      "Epoch 16/20\n",
      "12/12 [==============================] - 0s 2ms/step - loss: 0.0032\n",
      "Epoch 17/20\n",
      "12/12 [==============================] - 0s 3ms/step - loss: 0.0026\n",
      "Epoch 18/20\n",
      "12/12 [==============================] - 0s 3ms/step - loss: 0.0030\n",
      "Epoch 19/20\n",
      "12/12 [==============================] - 0s 2ms/step - loss: 0.0027\n",
      "Epoch 20/20\n",
      "12/12 [==============================] - 0s 3ms/step - loss: 0.0029\n"
     ]
    },
    {
     "data": {
      "text/plain": [
       "<tensorflow.python.keras.callbacks.History at 0x7f7ed02a14e0>"
      ]
     },
     "execution_count": 40,
     "metadata": {},
     "output_type": "execute_result"
    }
   ],
   "source": [
    "n_features = 1\n",
    "# define model\n",
    "model = Sequential()\n",
    "#model = Sequential()\n",
    "model.add(Conv1D(filters=64, kernel_size=2, activation='relu', input_shape=(n_steps, n_features)))\n",
    "model.add(MaxPooling1D(pool_size=2))\n",
    "model.add(Flatten())\n",
    "model.add(Dense(50, activation='relu'))\n",
    "model.add(Dense(1))\n",
    "model.compile(optimizer='adam', loss='mse')\n",
    "# fit model\n",
    "model.fit(X_train, y_train, epochs=20, verbose=1)\n"
   ]
  },
  {
   "cell_type": "markdown",
   "metadata": {},
   "source": [
    "### Load the saved model"
   ]
  },
  {
   "cell_type": "code",
   "execution_count": 41,
   "metadata": {},
   "outputs": [],
   "source": [
    "from keras.models import load_model\n",
    "\n",
    "# load the saved model\n",
    "model = load_model('best_model.h5')"
   ]
  },
  {
   "cell_type": "markdown",
   "metadata": {},
   "source": [
    "#### Compute RMSE for Evaluation"
   ]
  },
  {
   "cell_type": "code",
   "execution_count": 42,
   "metadata": {},
   "outputs": [],
   "source": [
    "def rmse(y_true, y_pred):\n",
    "        return np.sqrt(np.mean(np.square(y_pred - y_true))) "
   ]
  },
  {
   "cell_type": "code",
   "execution_count": 43,
   "metadata": {},
   "outputs": [],
   "source": [
    "preds = []\n",
    "# demonstrate predictions\n",
    "for i in range(X_test.shape[0]):\n",
    "    x_input = X_test[i]\n",
    "    x_input = x_input.reshape((1, n_steps, n_features))\n",
    "    yhat = model.predict(x_input, verbose=0)\n",
    "    preds.append(yhat[0])\n",
    "    #print(yhat[0], y_test[i])"
   ]
  },
  {
   "cell_type": "code",
   "execution_count": 45,
   "metadata": {},
   "outputs": [
    {
     "data": {
      "text/plain": [
       "[array([0.41388285], dtype=float32),\n",
       " array([0.3999477], dtype=float32),\n",
       " array([0.40256932], dtype=float32),\n",
       " array([0.40982255], dtype=float32),\n",
       " array([0.43744808], dtype=float32),\n",
       " array([0.45956993], dtype=float32),\n",
       " array([0.48651966], dtype=float32),\n",
       " array([0.51222384], dtype=float32),\n",
       " array([0.5282671], dtype=float32),\n",
       " array([0.54289293], dtype=float32),\n",
       " array([0.5515855], dtype=float32),\n",
       " array([0.55633193], dtype=float32),\n",
       " array([0.5500941], dtype=float32),\n",
       " array([0.53622746], dtype=float32),\n",
       " array([0.52582437], dtype=float32),\n",
       " array([0.51577437], dtype=float32),\n",
       " array([0.5064329], dtype=float32),\n",
       " array([0.5014646], dtype=float32),\n",
       " array([0.50157505], dtype=float32),\n",
       " array([0.51430774], dtype=float32),\n",
       " array([0.5277814], dtype=float32),\n",
       " array([0.5370892], dtype=float32),\n",
       " array([0.54627585], dtype=float32),\n",
       " array([0.55950814], dtype=float32),\n",
       " array([0.570373], dtype=float32),\n",
       " array([0.57083535], dtype=float32),\n",
       " array([0.5625356], dtype=float32),\n",
       " array([0.55216527], dtype=float32),\n",
       " array([0.54459876], dtype=float32),\n",
       " array([0.5394346], dtype=float32),\n",
       " array([0.53304875], dtype=float32),\n",
       " array([0.52860314], dtype=float32),\n",
       " array([0.52596617], dtype=float32),\n",
       " array([0.5305778], dtype=float32),\n",
       " array([0.5397589], dtype=float32),\n",
       " array([0.542941], dtype=float32),\n",
       " array([0.53766036], dtype=float32),\n",
       " array([0.5361136], dtype=float32),\n",
       " array([0.5381457], dtype=float32),\n",
       " array([0.5382151], dtype=float32),\n",
       " array([0.540346], dtype=float32),\n",
       " array([0.54337525], dtype=float32),\n",
       " array([0.5288399], dtype=float32),\n",
       " array([0.5043384], dtype=float32),\n",
       " array([0.4922721], dtype=float32),\n",
       " array([0.49025676], dtype=float32),\n",
       " array([0.49013785], dtype=float32),\n",
       " array([0.4923428], dtype=float32),\n",
       " array([0.50597525], dtype=float32),\n",
       " array([0.51642656], dtype=float32),\n",
       " array([0.5225431], dtype=float32),\n",
       " array([0.5187152], dtype=float32),\n",
       " array([0.4993829], dtype=float32),\n",
       " array([0.47615287], dtype=float32),\n",
       " array([0.4605423], dtype=float32),\n",
       " array([0.45563653], dtype=float32),\n",
       " array([0.45011795], dtype=float32),\n",
       " array([0.45820922], dtype=float32),\n",
       " array([0.4750947], dtype=float32),\n",
       " array([0.4872075], dtype=float32),\n",
       " array([0.4860891], dtype=float32),\n",
       " array([0.48701108], dtype=float32),\n",
       " array([0.48946768], dtype=float32),\n",
       " array([0.50538886], dtype=float32),\n",
       " array([0.5340387], dtype=float32),\n",
       " array([0.56691843], dtype=float32),\n",
       " array([0.5852626], dtype=float32),\n",
       " array([0.58792335], dtype=float32),\n",
       " array([0.5697991], dtype=float32),\n",
       " array([0.55839247], dtype=float32),\n",
       " array([0.5548063], dtype=float32),\n",
       " array([0.54707336], dtype=float32),\n",
       " array([0.52586436], dtype=float32),\n",
       " array([0.49244922], dtype=float32),\n",
       " array([0.44537616], dtype=float32),\n",
       " array([0.40154403], dtype=float32),\n",
       " array([0.38568804], dtype=float32),\n",
       " array([0.37539822], dtype=float32),\n",
       " array([0.35432416], dtype=float32),\n",
       " array([0.32809496], dtype=float32),\n",
       " array([0.3179537], dtype=float32),\n",
       " array([0.31710923], dtype=float32),\n",
       " array([0.33753982], dtype=float32),\n",
       " array([0.35563576], dtype=float32),\n",
       " array([0.36408722], dtype=float32),\n",
       " array([0.36980096], dtype=float32),\n",
       " array([0.37457365], dtype=float32),\n",
       " array([0.3989317], dtype=float32),\n",
       " array([0.41244158], dtype=float32),\n",
       " array([0.43487984], dtype=float32),\n",
       " array([0.4422905], dtype=float32),\n",
       " array([0.43590432], dtype=float32),\n",
       " array([0.43407512], dtype=float32),\n",
       " array([0.45104337], dtype=float32),\n",
       " array([0.4543814], dtype=float32),\n",
       " array([0.4495228], dtype=float32),\n",
       " array([0.45522317], dtype=float32),\n",
       " array([0.47681895], dtype=float32),\n",
       " array([0.50753057], dtype=float32),\n",
       " array([0.5491348], dtype=float32),\n",
       " array([0.56261826], dtype=float32),\n",
       " array([0.55970335], dtype=float32),\n",
       " array([0.5565635], dtype=float32),\n",
       " array([0.55870146], dtype=float32),\n",
       " array([0.56836003], dtype=float32),\n",
       " array([0.57822114], dtype=float32),\n",
       " array([0.58407617], dtype=float32),\n",
       " array([0.58761173], dtype=float32),\n",
       " array([0.58740556], dtype=float32),\n",
       " array([0.58255976], dtype=float32),\n",
       " array([0.57427293], dtype=float32),\n",
       " array([0.5696807], dtype=float32),\n",
       " array([0.5728917], dtype=float32),\n",
       " array([0.5814625], dtype=float32),\n",
       " array([0.58533645], dtype=float32),\n",
       " array([0.57943046], dtype=float32),\n",
       " array([0.5705435], dtype=float32),\n",
       " array([0.5600072], dtype=float32),\n",
       " array([0.5579958], dtype=float32),\n",
       " array([0.56321496], dtype=float32)]"
      ]
     },
     "execution_count": 45,
     "metadata": {},
     "output_type": "execute_result"
    }
   ],
   "source": [
    "preds"
   ]
  },
  {
   "cell_type": "markdown",
   "metadata": {},
   "source": [
    "### After getting the predictions we need to transform the predicted and actual Y values into their original range\n",
    "### Remember we applied scaling previously"
   ]
  },
  {
   "cell_type": "code",
   "execution_count": 46,
   "metadata": {},
   "outputs": [],
   "source": [
    "# The output of the model is between 0 and 1.\n",
    "# Do an inverse map to get it back to the scale\n",
    "# of the original data-set.\n",
    "preds   = x_scaler.inverse_transform(np.array(preds))\n",
    "# we also rescale the y_test values into their original range (inverse scaling)\n",
    "actuals = x_scaler.inverse_transform(y_test)"
   ]
  },
  {
   "cell_type": "code",
   "execution_count": 47,
   "metadata": {},
   "outputs": [
    {
     "data": {
      "text/plain": [
       "3.172560745121698"
      ]
     },
     "execution_count": 47,
     "metadata": {},
     "output_type": "execute_result"
    }
   ],
   "source": [
    "rmse(actuals, preds)"
   ]
  },
  {
   "cell_type": "markdown",
   "metadata": {},
   "source": [
    "#### Plot True vs Predicted"
   ]
  },
  {
   "cell_type": "code",
   "execution_count": 48,
   "metadata": {},
   "outputs": [
    {
     "data": {
      "text/plain": [
       "<matplotlib.legend.Legend at 0x7f7ea36560f0>"
      ]
     },
     "execution_count": 48,
     "metadata": {},
     "output_type": "execute_result"
    },
    {
     "data": {
      "image/png": "[encoded data removed]",
      "text/plain": [
       "<Figure size 432x288 with 1 Axes>"
      ]
     },
     "metadata": {
      "needs_background": "light"
     },
     "output_type": "display_data"
    }
   ],
   "source": [
    "# multiple line plot\n",
    "plt.plot(actuals, marker='o', label='True')\n",
    "plt.plot(preds, marker='*', label='Predicted')\n",
    "\n",
    "plt.legend()"
   ]
  },
  {
   "cell_type": "markdown",
   "metadata": {},
   "source": [
    "# WELL DONE!"
   ]
  },
  {
   "cell_type": "code",
   "execution_count": null,
   "metadata": {},
   "outputs": [],
   "source": []
  }
 ],
 "metadata": {
  "anaconda-cloud": {},
  "kernelspec": {
   "display_name": "Python 3",
   "language": "python",
   "name": "python3"
  },
  "language_info": {
   "codemirror_mode": {
    "name": "ipython",
    "version": 3
   },
   "file_extension": ".py",
   "mimetype": "text/x-python",
   "name": "python",
   "nbconvert_exporter": "python",
   "pygments_lexer": "ipython3",
   "version": "3.6.11"
  }
 },
 "nbformat": 4,
 "nbformat_minor": 1
}
